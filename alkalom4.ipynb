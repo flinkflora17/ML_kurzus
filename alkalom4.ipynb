{
  "nbformat": 4,
  "nbformat_minor": 0,
  "metadata": {
    "colab": {
      "name": "alkalom4.ipynb",
      "provenance": [],
      "authorship_tag": "ABX9TyNGwSj2Rmjj+bk+Nn26R47S",
      "include_colab_link": true
    },
    "kernelspec": {
      "name": "python3",
      "display_name": "Python 3"
    },
    "language_info": {
      "name": "python"
    }
  },
  "cells": [
    {
      "cell_type": "markdown",
      "metadata": {
        "id": "view-in-github",
        "colab_type": "text"
      },
      "source": [
        "<a href=\"https://colab.research.google.com/github/flinkflora17/ML_kurzus/blob/main/alkalom4.ipynb\" target=\"_parent\"><img src=\"https://colab.research.google.com/assets/colab-badge.svg\" alt=\"Open In Colab\"/></a>"
      ]
    },
    {
      "cell_type": "code",
      "source": [
        "from tensorflow import keras"
      ],
      "metadata": {
        "id": "CPvYB3gJyYi3"
      },
      "execution_count": 1,
      "outputs": []
    },
    {
      "cell_type": "markdown",
      "source": [
        "# Adatok beolvasása"
      ],
      "metadata": {
        "id": "4PRfdFy5zCaO"
      }
    },
    {
      "cell_type": "code",
      "execution_count": 15,
      "metadata": {
        "id": "f4_hkDYehlQV"
      },
      "outputs": [],
      "source": [
        "(x_train, y_train), (x_test, y_test) = keras.datasets.mnist.load_data()"
      ]
    },
    {
      "cell_type": "code",
      "source": [
        "x_train.shape"
      ],
      "metadata": {
        "colab": {
          "base_uri": "https://localhost:8080/"
        },
        "id": "ZaW8p6-By3xj",
        "outputId": "86309e2d-e3c6-4594-ddad-d3a5fbc9aabd"
      },
      "execution_count": 16,
      "outputs": [
        {
          "output_type": "execute_result",
          "data": {
            "text/plain": [
              "(60000, 28, 28)"
            ]
          },
          "metadata": {},
          "execution_count": 16
        }
      ]
    },
    {
      "cell_type": "markdown",
      "source": [
        "# Kép megjelenítés"
      ],
      "metadata": {
        "id": "BcMo0xuIzII-"
      }
    },
    {
      "cell_type": "code",
      "source": [
        "random_image = x_train[0]"
      ],
      "metadata": {
        "id": "biWgQpVby-f5"
      },
      "execution_count": 17,
      "outputs": []
    },
    {
      "cell_type": "code",
      "source": [
        "random_image.shape"
      ],
      "metadata": {
        "colab": {
          "base_uri": "https://localhost:8080/"
        },
        "id": "JhjrrPwVzOX4",
        "outputId": "82dbdf38-b457-44db-c27e-bda68215fed1"
      },
      "execution_count": 18,
      "outputs": [
        {
          "output_type": "execute_result",
          "data": {
            "text/plain": [
              "(28, 28)"
            ]
          },
          "metadata": {},
          "execution_count": 18
        }
      ]
    },
    {
      "cell_type": "code",
      "source": [
        "from PIL import Image"
      ],
      "metadata": {
        "id": "8myqaoDjzQSg"
      },
      "execution_count": 19,
      "outputs": []
    },
    {
      "cell_type": "code",
      "source": [
        "Image.fromarray(random_image)"
      ],
      "metadata": {
        "colab": {
          "base_uri": "https://localhost:8080/",
          "height": 45
        },
        "id": "ev8GxNXCzUK9",
        "outputId": "86488098-3f4d-4ce8-ec45-64ff1276ffb7"
      },
      "execution_count": 20,
      "outputs": [
        {
          "output_type": "execute_result",
          "data": {
            "image/png": "[encoded data removed]",
            "text/plain": [
              "<PIL.Image.Image image mode=L size=28x28 at 0x7FBBE472E990>"
            ]
          },
          "metadata": {},
          "execution_count": 20
        }
      ]
    },
    {
      "cell_type": "markdown",
      "source": [
        "## Adatok átformázása"
      ],
      "metadata": {
        "id": "zfs5rhvqzj0D"
      }
    },
    {
      "cell_type": "code",
      "source": [
        "# előrecsatolt neurháló nem képes többdimenziójú adatformát fogadni az input rétegen --> egyetlen vektorrá formázzuk"
      ],
      "metadata": {
        "id": "klIzONxczdi-"
      },
      "execution_count": 21,
      "outputs": []
    },
    {
      "cell_type": "code",
      "source": [
        "num_classes = 10"
      ],
      "metadata": {
        "id": "2oPAn9Ir0BcF"
      },
      "execution_count": 22,
      "outputs": []
    },
    {
      "cell_type": "code",
      "source": [
        "# hány db elem van a tanuló adatbázisban?"
      ],
      "metadata": {
        "id": "sdCFgu8S0DMk"
      },
      "execution_count": 23,
      "outputs": []
    },
    {
      "cell_type": "code",
      "source": [
        "num_train = x_train.shape[0]\n",
        "num_train"
      ],
      "metadata": {
        "colab": {
          "base_uri": "https://localhost:8080/"
        },
        "id": "E5khrYPn0I3i",
        "outputId": "9c6c1ea5-96d6-475f-b078-ddabf32b94c4"
      },
      "execution_count": 24,
      "outputs": [
        {
          "output_type": "execute_result",
          "data": {
            "text/plain": [
              "60000"
            ]
          },
          "metadata": {},
          "execution_count": 24
        }
      ]
    },
    {
      "cell_type": "code",
      "source": [
        "# hány db elem van a teszt adatbázisban?\n",
        "num_test = x_test.shape[0]\n",
        "num_test"
      ],
      "metadata": {
        "colab": {
          "base_uri": "https://localhost:8080/"
        },
        "id": "5dBXDx4R1vGX",
        "outputId": "092efc7f-7d74-4d9c-c907-1dcb5a98bdbd"
      },
      "execution_count": 25,
      "outputs": [
        {
          "output_type": "execute_result",
          "data": {
            "text/plain": [
              "10000"
            ]
          },
          "metadata": {},
          "execution_count": 25
        }
      ]
    },
    {
      "cell_type": "code",
      "source": [
        "# kép dimenziója"
      ],
      "metadata": {
        "id": "qWVRTQti0M7V"
      },
      "execution_count": null,
      "outputs": []
    },
    {
      "cell_type": "code",
      "source": [
        "img_height = x_train.shape[1]\n",
        "img_width = x_train.shape[2]"
      ],
      "metadata": {
        "id": "niG8olJr0lx0"
      },
      "execution_count": 26,
      "outputs": []
    },
    {
      "cell_type": "code",
      "source": [
        "# Vektorrá formálás"
      ],
      "metadata": {
        "id": "34KuzNG80pB1"
      },
      "execution_count": 13,
      "outputs": []
    },
    {
      "cell_type": "code",
      "source": [
        "#x_train = x_train.reshape(num_train, img_height*img_width)"
      ],
      "metadata": {
        "id": "c2jnrDn004iz"
      },
      "execution_count": 14,
      "outputs": []
    },
    {
      "cell_type": "code",
      "source": [
        "#x_test = x_test.reshape(num_test, img_height*img_width)"
      ],
      "metadata": {
        "id": "tFXnvnG21Ajb"
      },
      "execution_count": null,
      "outputs": []
    },
    {
      "cell_type": "code",
      "source": [
        "x_test.shape"
      ],
      "metadata": {
        "colab": {
          "base_uri": "https://localhost:8080/"
        },
        "id": "TfoNMG4J2d5c",
        "outputId": "eee5d0a9-fbe6-479b-e56e-0015ed0a7452"
      },
      "execution_count": 27,
      "outputs": [
        {
          "output_type": "execute_result",
          "data": {
            "text/plain": [
              "(10000, 28, 28)"
            ]
          },
          "metadata": {},
          "execution_count": 27
        }
      ]
    },
    {
      "cell_type": "markdown",
      "source": [
        "# Ellenőrizzük az eredményváltozókat"
      ],
      "metadata": {
        "id": "kD0p0bhr2Bk4"
      }
    },
    {
      "cell_type": "code",
      "source": [
        "from tensorflow.keras.utils import to_categorical"
      ],
      "metadata": {
        "id": "8Xu-aiSa1-7J"
      },
      "execution_count": 28,
      "outputs": []
    },
    {
      "cell_type": "code",
      "source": [
        "y_train = to_categorical(y_train, num_classes = num_classes)"
      ],
      "metadata": {
        "id": "Ymnu5VXf4ACC"
      },
      "execution_count": 29,
      "outputs": []
    },
    {
      "cell_type": "code",
      "source": [
        "y_train"
      ],
      "metadata": {
        "colab": {
          "base_uri": "https://localhost:8080/"
        },
        "id": "Z38yuZ1z4Ldn",
        "outputId": "45545ace-8305-4d67-9f76-1c06c5e5d277"
      },
      "execution_count": 30,
      "outputs": [
        {
          "output_type": "execute_result",
          "data": {
            "text/plain": [
              "array([[0., 0., 0., ..., 0., 0., 0.],\n",
              "       [1., 0., 0., ..., 0., 0., 0.],\n",
              "       [0., 0., 0., ..., 0., 0., 0.],\n",
              "       ...,\n",
              "       [0., 0., 0., ..., 0., 0., 0.],\n",
              "       [0., 0., 0., ..., 0., 0., 0.],\n",
              "       [0., 0., 0., ..., 0., 1., 0.]], dtype=float32)"
            ]
          },
          "metadata": {},
          "execution_count": 30
        }
      ]
    },
    {
      "cell_type": "code",
      "source": [
        "y_test = to_categorical(y_test, num_classes = num_classes)"
      ],
      "metadata": {
        "id": "KemiBbkn4Ri3"
      },
      "execution_count": 31,
      "outputs": []
    },
    {
      "cell_type": "markdown",
      "source": [
        "# Modell architektúra"
      ],
      "metadata": {
        "id": "qy-atkt14mqU"
      }
    },
    {
      "cell_type": "code",
      "source": [
        "from tensorflow.keras.layers import Dense, Input, Conv2D, Flatten"
      ],
      "metadata": {
        "id": "FWRftcN34e6j"
      },
      "execution_count": 39,
      "outputs": []
    },
    {
      "cell_type": "code",
      "source": [
        "input = Input(shape=(x_train.shape[1]))\n",
        "x = Dense(32, activation = 'relu')(input)\n",
        "x = Dense(64, activation = 'relu')(x)\n",
        "x = Dense(64, activation = 'relu')(x)\n",
        "output = Dense(num_classes, activation = 'softmax')(x)"
      ],
      "metadata": {
        "id": "002yQhy_4uga"
      },
      "execution_count": 33,
      "outputs": []
    },
    {
      "cell_type": "code",
      "source": [
        "FC_model = keras.Model(input, output)"
      ],
      "metadata": {
        "id": "a2nO0yGf5VR-"
      },
      "execution_count": 35,
      "outputs": []
    },
    {
      "cell_type": "code",
      "source": [
        "# kép alakja : szélesség x magasság x channels\n",
        "image_shape = (x_train.shape[1], x_train.shape[2], 1)"
      ],
      "metadata": {
        "id": "Uwg7xsz12snn"
      },
      "execution_count": 36,
      "outputs": []
    },
    {
      "cell_type": "code",
      "source": [
        "input = Input(shape = image_shape)\n",
        "x = Conv2D(filters = 32, kernel_size = (3, 3), strides = 1, padding = \"same\", activation = 'relu')(input)\n",
        "x = Flatten()(x)\n",
        "x = Dense(64, activation = 'relu')(x)\n",
        "output = Dense(num_classes, activation = 'softmax')(x)"
      ],
      "metadata": {
        "id": "eo8zqJS72omd"
      },
      "execution_count": 42,
      "outputs": []
    },
    {
      "cell_type": "code",
      "source": [
        "CNN_model = keras.Model(input, output)"
      ],
      "metadata": {
        "id": "NPkiHuF84hhv"
      },
      "execution_count": 43,
      "outputs": []
    },
    {
      "cell_type": "markdown",
      "source": [
        "# Modell compile"
      ],
      "metadata": {
        "id": "lskXWuXP5eil"
      }
    },
    {
      "cell_type": "code",
      "source": [
        "FC_model.compile( optimizer = 'adam',\n",
        "              loss = 'categorical_crossentropy',\n",
        "              metrics = ['accuracy'])"
      ],
      "metadata": {
        "id": "zE-aEixz5l-r"
      },
      "execution_count": 44,
      "outputs": []
    },
    {
      "cell_type": "code",
      "source": [
        "CNN_model.compile( optimizer = 'adam',\n",
        "              loss = 'categorical_crossentropy',\n",
        "              metrics = ['accuracy'])"
      ],
      "metadata": {
        "id": "OI2ebIm24w_V"
      },
      "execution_count": 45,
      "outputs": []
    },
    {
      "cell_type": "markdown",
      "source": [
        "# Model fit"
      ],
      "metadata": {
        "id": "6ExG_eD05ipr"
      }
    },
    {
      "cell_type": "code",
      "source": [
        "from tensorflow.keras.callbacks import EarlyStopping"
      ],
      "metadata": {
        "id": "fYNPLMeg6E7T"
      },
      "execution_count": 46,
      "outputs": []
    },
    {
      "cell_type": "code",
      "source": [
        "escb = EarlyStopping(patience = 20, restore_best_weights = True)"
      ],
      "metadata": {
        "id": "BHSKMvDb5ak-"
      },
      "execution_count": 47,
      "outputs": []
    },
    {
      "cell_type": "code",
      "source": [
        "%load_ext tensorboard\n",
        "%tensorboard #de ez nem megy mert hülye corvinus\n",
        "%reload_ext tensorboard"
      ],
      "metadata": {
        "id": "qVYLTfKK7LKi",
        "colab": {
          "base_uri": "https://localhost:8080/",
          "height": 124
        },
        "outputId": "ce16e0c0-3a0e-4896-c677-003c8340a920"
      },
      "execution_count": 52,
      "outputs": [
        {
          "output_type": "stream",
          "name": "stdout",
          "text": [
            "The tensorboard extension is already loaded. To reload it, use:\n",
            "  %reload_ext tensorboard\n"
          ]
        },
        {
          "output_type": "display_data",
          "data": {
            "text/plain": [
              "ERROR: Failed to launch TensorBoard (exited with 1).\n",
              "Contents of stderr:\n",
              "Error: A logdir or db must be specified. For example `tensorboard --logdir mylogdir` or `tensorboard --db sqlite:~/.tensorboard.db`. Run `tensorboard --helpfull` for details and examples."
            ]
          },
          "metadata": {}
        }
      ]
    },
    {
      "cell_type": "code",
      "source": [
        "CNN_model.fit(x_train, y_train,\n",
        "          batch_size = 64,\n",
        "          epochs = 500,\n",
        "          validation_split = 0.1,\n",
        "          callbacks= [escb])"
      ],
      "metadata": {
        "colab": {
          "base_uri": "https://localhost:8080/"
        },
        "id": "aPrg5w9x6nAr",
        "outputId": "927ca96c-8bdf-496a-c486-457e6e2e7e83"
      },
      "execution_count": null,
      "outputs": [
        {
          "output_type": "stream",
          "name": "stdout",
          "text": [
            "Epoch 1/500\n",
            "573/844 [===================>..........] - ETA: 10s - loss: 0.1152 - accuracy: 0.9702"
          ]
        }
      ]
    },
    {
      "cell_type": "code",
      "source": [
        ""
      ],
      "metadata": {
        "id": "ceb1gt6d7IQ0"
      },
      "execution_count": null,
      "outputs": []
    }
  ]
}