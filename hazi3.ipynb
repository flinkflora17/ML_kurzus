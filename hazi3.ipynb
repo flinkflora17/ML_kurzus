{
  "nbformat": 4,
  "nbformat_minor": 0,
  "metadata": {
    "colab": {
      "name": "hazi3.ipynb",
      "provenance": [],
      "authorship_tag": "ABX9TyPP0cyHcroKiJbGS2jcVqWT",
      "include_colab_link": true
    },
    "kernelspec": {
      "name": "python3",
      "display_name": "Python 3"
    },
    "language_info": {
      "name": "python"
    }
  },
  "cells": [
    {
      "cell_type": "markdown",
      "metadata": {
        "id": "view-in-github",
        "colab_type": "text"
      },
      "source": [
        "<a href=\"https://colab.research.google.com/github/flinkflora17/ML_kurzus/blob/main/hazi3.ipynb\" target=\"_parent\"><img src=\"https://colab.research.google.com/assets/colab-badge.svg\" alt=\"Open In Colab\"/></a>"
      ]
    },
    {
      "cell_type": "markdown",
      "source": [
        "# Packagek"
      ],
      "metadata": {
        "id": "pt3ZK_6aQhh2"
      }
    },
    {
      "cell_type": "code",
      "execution_count": 49,
      "metadata": {
        "id": "pY-NRbBw386P"
      },
      "outputs": [],
      "source": [
        "from tensorflow import keras\n",
        "from PIL import Image\n",
        "from tensorflow.keras.utils import to_categorical\n",
        "from tensorflow.keras.layers import Dense, Input\n",
        "from tensorflow.keras.callbacks import EarlyStopping\n",
        "from tensorflow.keras.utils import plot_model\n",
        "import pandas as pd\n",
        "from google.colab import files\n",
        "import io\n",
        "from sklearn.preprocessing import LabelEncoder, StandardScaler\n",
        "from sklearn.model_selection import train_test_split\n",
        "from tensorflow.keras.callbacks import EarlyStopping\n",
        "from tensorflow.keras.utils import to_categorical"
      ]
    },
    {
      "cell_type": "markdown",
      "source": [
        "# Adatbázis beolvasása és formázása"
      ],
      "metadata": {
        "id": "tViH_rGXQkfb"
      }
    },
    {
      "cell_type": "code",
      "source": [
        "uploaded = files.upload()"
      ],
      "metadata": {
        "colab": {
          "resources": {
            "http://localhost:8080/nbextensions/google.colab/files.js": {
              "data": "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",
              "ok": true,
              "headers": [
                [
                  "content-type",
                  "application/javascript"
                ]
              ],
              "status": 200,
              "status_text": ""
            }
          },
          "base_uri": "https://localhost:8080/",
          "height": 73
        },
        "id": "loLshVmQ4Ze7",
        "outputId": "9d33787f-222c-4919-93d0-401e821dc269"
      },
      "execution_count": 17,
      "outputs": [
        {
          "output_type": "display_data",
          "data": {
            "text/html": [
              "\n",
              "     <input type=\"file\" id=\"files-b4806465-2138-4cfe-9b41-4101dba8f199\" name=\"files[]\" multiple disabled\n",
              "        style=\"border:none\" />\n",
              "     <output id=\"result-b4806465-2138-4cfe-9b41-4101dba8f199\">\n",
              "      Upload widget is only available when the cell has been executed in the\n",
              "      current browser session. Please rerun this cell to enable.\n",
              "      </output>\n",
              "      <script src=\"/nbextensions/google.colab/files.js\"></script> "
            ],
            "text/plain": [
              "<IPython.core.display.HTML object>"
            ]
          },
          "metadata": {}
        },
        {
          "output_type": "stream",
          "name": "stdout",
          "text": [
            "Saving weather_data_1hr.csv to weather_data_1hr (1).csv\n"
          ]
        }
      ]
    },
    {
      "cell_type": "code",
      "source": [
        "weather = pd.read_csv(io.BytesIO(uploaded['weather_data_1hr.csv']))"
      ],
      "metadata": {
        "id": "QPXwMDv76Kyt"
      },
      "execution_count": 81,
      "outputs": []
    },
    {
      "cell_type": "code",
      "source": [
        "weather.head()"
      ],
      "metadata": {
        "colab": {
          "base_uri": "https://localhost:8080/",
          "height": 386
        },
        "id": "C24pPUPQ6e_f",
        "outputId": "9fea96a5-453e-4630-cd81-79aabc589b75"
      },
      "execution_count": 82,
      "outputs": [
        {
          "output_type": "execute_result",
          "data": {
            "text/html": [
              "\n",
              "  <div id=\"df-2156cdad-7a16-4885-b688-162851db4fd5\">\n",
              "    <div class=\"colab-df-container\">\n",
              "      <div>\n",
              "<style scoped>\n",
              "    .dataframe tbody tr th:only-of-type {\n",
              "        vertical-align: middle;\n",
              "    }\n",
              "\n",
              "    .dataframe tbody tr th {\n",
              "        vertical-align: top;\n",
              "    }\n",
              "\n",
              "    .dataframe thead th {\n",
              "        text-align: right;\n",
              "    }\n",
              "</style>\n",
              "<table border=\"1\" class=\"dataframe\">\n",
              "  <thead>\n",
              "    <tr style=\"text-align: right;\">\n",
              "      <th></th>\n",
              "      <th>loc_id</th>\n",
              "      <th>date</th>\n",
              "      <th>time</th>\n",
              "      <th>isdaytime</th>\n",
              "      <th>tempC</th>\n",
              "      <th>tempF</th>\n",
              "      <th>windspeedMiles</th>\n",
              "      <th>windspeedKmph</th>\n",
              "      <th>winddirdegree</th>\n",
              "      <th>winddir16point</th>\n",
              "      <th>...</th>\n",
              "      <th>HeatIndexC</th>\n",
              "      <th>HeatIndexF</th>\n",
              "      <th>DewPointC</th>\n",
              "      <th>DewPointF</th>\n",
              "      <th>WindChillC</th>\n",
              "      <th>WindChillF</th>\n",
              "      <th>WindGustMiles</th>\n",
              "      <th>WindGustKmph</th>\n",
              "      <th>FeelsLikeC</th>\n",
              "      <th>FeelsLikeF</th>\n",
              "    </tr>\n",
              "  </thead>\n",
              "  <tbody>\n",
              "    <tr>\n",
              "      <th>0</th>\n",
              "      <td>1</td>\n",
              "      <td>2019-06-01</td>\n",
              "      <td>0</td>\n",
              "      <td>no</td>\n",
              "      <td>16</td>\n",
              "      <td>61</td>\n",
              "      <td>6</td>\n",
              "      <td>10</td>\n",
              "      <td>228</td>\n",
              "      <td>SW</td>\n",
              "      <td>...</td>\n",
              "      <td>16</td>\n",
              "      <td>61</td>\n",
              "      <td>12</td>\n",
              "      <td>54</td>\n",
              "      <td>16</td>\n",
              "      <td>61</td>\n",
              "      <td>7</td>\n",
              "      <td>12</td>\n",
              "      <td>16</td>\n",
              "      <td>61</td>\n",
              "    </tr>\n",
              "    <tr>\n",
              "      <th>1</th>\n",
              "      <td>1</td>\n",
              "      <td>2019-06-01</td>\n",
              "      <td>100</td>\n",
              "      <td>no</td>\n",
              "      <td>16</td>\n",
              "      <td>60</td>\n",
              "      <td>6</td>\n",
              "      <td>9</td>\n",
              "      <td>230</td>\n",
              "      <td>SW</td>\n",
              "      <td>...</td>\n",
              "      <td>16</td>\n",
              "      <td>60</td>\n",
              "      <td>12</td>\n",
              "      <td>53</td>\n",
              "      <td>16</td>\n",
              "      <td>60</td>\n",
              "      <td>7</td>\n",
              "      <td>11</td>\n",
              "      <td>16</td>\n",
              "      <td>60</td>\n",
              "    </tr>\n",
              "    <tr>\n",
              "      <th>2</th>\n",
              "      <td>1</td>\n",
              "      <td>2019-06-01</td>\n",
              "      <td>200</td>\n",
              "      <td>no</td>\n",
              "      <td>15</td>\n",
              "      <td>59</td>\n",
              "      <td>5</td>\n",
              "      <td>9</td>\n",
              "      <td>233</td>\n",
              "      <td>SW</td>\n",
              "      <td>...</td>\n",
              "      <td>15</td>\n",
              "      <td>59</td>\n",
              "      <td>11</td>\n",
              "      <td>53</td>\n",
              "      <td>15</td>\n",
              "      <td>59</td>\n",
              "      <td>6</td>\n",
              "      <td>10</td>\n",
              "      <td>15</td>\n",
              "      <td>59</td>\n",
              "    </tr>\n",
              "    <tr>\n",
              "      <th>3</th>\n",
              "      <td>1</td>\n",
              "      <td>2019-06-01</td>\n",
              "      <td>300</td>\n",
              "      <td>no</td>\n",
              "      <td>15</td>\n",
              "      <td>58</td>\n",
              "      <td>5</td>\n",
              "      <td>8</td>\n",
              "      <td>235</td>\n",
              "      <td>SW</td>\n",
              "      <td>...</td>\n",
              "      <td>15</td>\n",
              "      <td>58</td>\n",
              "      <td>11</td>\n",
              "      <td>52</td>\n",
              "      <td>14</td>\n",
              "      <td>58</td>\n",
              "      <td>6</td>\n",
              "      <td>9</td>\n",
              "      <td>14</td>\n",
              "      <td>58</td>\n",
              "    </tr>\n",
              "    <tr>\n",
              "      <th>4</th>\n",
              "      <td>1</td>\n",
              "      <td>2019-06-01</td>\n",
              "      <td>400</td>\n",
              "      <td>no</td>\n",
              "      <td>15</td>\n",
              "      <td>59</td>\n",
              "      <td>4</td>\n",
              "      <td>7</td>\n",
              "      <td>229</td>\n",
              "      <td>SW</td>\n",
              "      <td>...</td>\n",
              "      <td>15</td>\n",
              "      <td>59</td>\n",
              "      <td>11</td>\n",
              "      <td>52</td>\n",
              "      <td>15</td>\n",
              "      <td>59</td>\n",
              "      <td>5</td>\n",
              "      <td>8</td>\n",
              "      <td>15</td>\n",
              "      <td>59</td>\n",
              "    </tr>\n",
              "  </tbody>\n",
              "</table>\n",
              "<p>5 rows × 31 columns</p>\n",
              "</div>\n",
              "      <button class=\"colab-df-convert\" onclick=\"convertToInteractive('df-2156cdad-7a16-4885-b688-162851db4fd5')\"\n",
              "              title=\"Convert this dataframe to an interactive table.\"\n",
              "              style=\"display:none;\">\n",
              "        \n",
              "  <svg xmlns=\"http://www.w3.org/2000/svg\" height=\"24px\"viewBox=\"0 0 24 24\"\n",
              "       width=\"24px\">\n",
              "    <path d=\"M0 0h24v24H0V0z\" fill=\"none\"/>\n",
              "    <path d=\"M18.56 5.44l.94 2.06.94-2.06 2.06-.94-2.06-.94-.94-2.06-.94 2.06-2.06.94zm-11 1L8.5 8.5l.94-2.06 2.06-.94-2.06-.94L8.5 2.5l-.94 2.06-2.06.94zm10 10l.94 2.06.94-2.06 2.06-.94-2.06-.94-.94-2.06-.94 2.06-2.06.94z\"/><path d=\"M17.41 7.96l-1.37-1.37c-.4-.4-.92-.59-1.43-.59-.52 0-1.04.2-1.43.59L10.3 9.45l-7.72 7.72c-.78.78-.78 2.05 0 2.83L4 21.41c.39.39.9.59 1.41.59.51 0 1.02-.2 1.41-.59l7.78-7.78 2.81-2.81c.8-.78.8-2.07 0-2.86zM5.41 20L4 18.59l7.72-7.72 1.47 1.35L5.41 20z\"/>\n",
              "  </svg>\n",
              "      </button>\n",
              "      \n",
              "  <style>\n",
              "    .colab-df-container {\n",
              "      display:flex;\n",
              "      flex-wrap:wrap;\n",
              "      gap: 12px;\n",
              "    }\n",
              "\n",
              "    .colab-df-convert {\n",
              "      background-color: #E8F0FE;\n",
              "      border: none;\n",
              "      border-radius: 50%;\n",
              "      cursor: pointer;\n",
              "      display: none;\n",
              "      fill: #1967D2;\n",
              "      height: 32px;\n",
              "      padding: 0 0 0 0;\n",
              "      width: 32px;\n",
              "    }\n",
              "\n",
              "    .colab-df-convert:hover {\n",
              "      background-color: #E2EBFA;\n",
              "      box-shadow: 0px 1px 2px rgba(60, 64, 67, 0.3), 0px 1px 3px 1px rgba(60, 64, 67, 0.15);\n",
              "      fill: #174EA6;\n",
              "    }\n",
              "\n",
              "    [theme=dark] .colab-df-convert {\n",
              "      background-color: #3B4455;\n",
              "      fill: #D2E3FC;\n",
              "    }\n",
              "\n",
              "    [theme=dark] .colab-df-convert:hover {\n",
              "      background-color: #434B5C;\n",
              "      box-shadow: 0px 1px 3px 1px rgba(0, 0, 0, 0.15);\n",
              "      filter: drop-shadow(0px 1px 2px rgba(0, 0, 0, 0.3));\n",
              "      fill: #FFFFFF;\n",
              "    }\n",
              "  </style>\n",
              "\n",
              "      <script>\n",
              "        const buttonEl =\n",
              "          document.querySelector('#df-2156cdad-7a16-4885-b688-162851db4fd5 button.colab-df-convert');\n",
              "        buttonEl.style.display =\n",
              "          google.colab.kernel.accessAllowed ? 'block' : 'none';\n",
              "\n",
              "        async function convertToInteractive(key) {\n",
              "          const element = document.querySelector('#df-2156cdad-7a16-4885-b688-162851db4fd5');\n",
              "          const dataTable =\n",
              "            await google.colab.kernel.invokeFunction('convertToInteractive',\n",
              "                                                     [key], {});\n",
              "          if (!dataTable) return;\n",
              "\n",
              "          const docLinkHtml = 'Like what you see? Visit the ' +\n",
              "            '<a target=\"_blank\" href=https://colab.research.google.com/notebooks/data_table.ipynb>data table notebook</a>'\n",
              "            + ' to learn more about interactive tables.';\n",
              "          element.innerHTML = '';\n",
              "          dataTable['output_type'] = 'display_data';\n",
              "          await google.colab.output.renderOutput(dataTable, element);\n",
              "          const docLink = document.createElement('div');\n",
              "          docLink.innerHTML = docLinkHtml;\n",
              "          element.appendChild(docLink);\n",
              "        }\n",
              "      </script>\n",
              "    </div>\n",
              "  </div>\n",
              "  "
            ],
            "text/plain": [
              "   loc_id        date  time isdaytime  tempC  tempF  windspeedMiles  \\\n",
              "0       1  2019-06-01     0        no     16     61               6   \n",
              "1       1  2019-06-01   100        no     16     60               6   \n",
              "2       1  2019-06-01   200        no     15     59               5   \n",
              "3       1  2019-06-01   300        no     15     58               5   \n",
              "4       1  2019-06-01   400        no     15     59               4   \n",
              "\n",
              "   windspeedKmph  winddirdegree winddir16point  ...  HeatIndexC HeatIndexF  \\\n",
              "0             10            228             SW  ...          16         61   \n",
              "1              9            230             SW  ...          16         60   \n",
              "2              9            233             SW  ...          15         59   \n",
              "3              8            235             SW  ...          15         58   \n",
              "4              7            229             SW  ...          15         59   \n",
              "\n",
              "  DewPointC  DewPointF  WindChillC  WindChillF  WindGustMiles  WindGustKmph  \\\n",
              "0        12         54          16          61              7            12   \n",
              "1        12         53          16          60              7            11   \n",
              "2        11         53          15          59              6            10   \n",
              "3        11         52          14          58              6             9   \n",
              "4        11         52          15          59              5             8   \n",
              "\n",
              "   FeelsLikeC  FeelsLikeF  \n",
              "0          16          61  \n",
              "1          16          60  \n",
              "2          15          59  \n",
              "3          14          58  \n",
              "4          15          59  \n",
              "\n",
              "[5 rows x 31 columns]"
            ]
          },
          "metadata": {},
          "execution_count": 82
        }
      ]
    },
    {
      "cell_type": "code",
      "source": [
        "weather.shape"
      ],
      "metadata": {
        "colab": {
          "base_uri": "https://localhost:8080/"
        },
        "id": "o_W4LklhRyC3",
        "outputId": "d9527c47-7504-4845-d10e-ed5d389911c9"
      },
      "execution_count": 83,
      "outputs": [
        {
          "output_type": "execute_result",
          "data": {
            "text/plain": [
              "(1464, 31)"
            ]
          },
          "metadata": {},
          "execution_count": 83
        }
      ]
    },
    {
      "cell_type": "code",
      "source": [
        "weather = weather.drop(labels = ['loc_id', 'time', 'tempF', 'windspeedMiles', 'date'], axis = 1)"
      ],
      "metadata": {
        "id": "zSE9NJon8HHB"
      },
      "execution_count": 84,
      "outputs": []
    },
    {
      "cell_type": "code",
      "source": [
        "weather.head()"
      ],
      "metadata": {
        "colab": {
          "base_uri": "https://localhost:8080/",
          "height": 300
        },
        "id": "bc3sJbea-nOR",
        "outputId": "8b25a11b-5f53-4ed5-9e9a-817b363a319f"
      },
      "execution_count": 85,
      "outputs": [
        {
          "output_type": "execute_result",
          "data": {
            "text/html": [
              "\n",
              "  <div id=\"df-31e1f04f-5e6d-4e03-8569-2332d70b55e3\">\n",
              "    <div class=\"colab-df-container\">\n",
              "      <div>\n",
              "<style scoped>\n",
              "    .dataframe tbody tr th:only-of-type {\n",
              "        vertical-align: middle;\n",
              "    }\n",
              "\n",
              "    .dataframe tbody tr th {\n",
              "        vertical-align: top;\n",
              "    }\n",
              "\n",
              "    .dataframe thead th {\n",
              "        text-align: right;\n",
              "    }\n",
              "</style>\n",
              "<table border=\"1\" class=\"dataframe\">\n",
              "  <thead>\n",
              "    <tr style=\"text-align: right;\">\n",
              "      <th></th>\n",
              "      <th>isdaytime</th>\n",
              "      <th>tempC</th>\n",
              "      <th>windspeedKmph</th>\n",
              "      <th>winddirdegree</th>\n",
              "      <th>winddir16point</th>\n",
              "      <th>weatherCode</th>\n",
              "      <th>weatherIconUrl</th>\n",
              "      <th>weatherDesc</th>\n",
              "      <th>precipMM</th>\n",
              "      <th>precipInches</th>\n",
              "      <th>...</th>\n",
              "      <th>HeatIndexC</th>\n",
              "      <th>HeatIndexF</th>\n",
              "      <th>DewPointC</th>\n",
              "      <th>DewPointF</th>\n",
              "      <th>WindChillC</th>\n",
              "      <th>WindChillF</th>\n",
              "      <th>WindGustMiles</th>\n",
              "      <th>WindGustKmph</th>\n",
              "      <th>FeelsLikeC</th>\n",
              "      <th>FeelsLikeF</th>\n",
              "    </tr>\n",
              "  </thead>\n",
              "  <tbody>\n",
              "    <tr>\n",
              "      <th>0</th>\n",
              "      <td>no</td>\n",
              "      <td>16</td>\n",
              "      <td>10</td>\n",
              "      <td>228</td>\n",
              "      <td>SW</td>\n",
              "      <td>116</td>\n",
              "      <td>https://cdn.worldweatheronline.net/images/wsym...</td>\n",
              "      <td>Partly cloudy</td>\n",
              "      <td>0.0</td>\n",
              "      <td>0.0</td>\n",
              "      <td>...</td>\n",
              "      <td>16</td>\n",
              "      <td>61</td>\n",
              "      <td>12</td>\n",
              "      <td>54</td>\n",
              "      <td>16</td>\n",
              "      <td>61</td>\n",
              "      <td>7</td>\n",
              "      <td>12</td>\n",
              "      <td>16</td>\n",
              "      <td>61</td>\n",
              "    </tr>\n",
              "    <tr>\n",
              "      <th>1</th>\n",
              "      <td>no</td>\n",
              "      <td>16</td>\n",
              "      <td>9</td>\n",
              "      <td>230</td>\n",
              "      <td>SW</td>\n",
              "      <td>116</td>\n",
              "      <td>https://cdn.worldweatheronline.net/images/wsym...</td>\n",
              "      <td>Partly cloudy</td>\n",
              "      <td>0.0</td>\n",
              "      <td>0.0</td>\n",
              "      <td>...</td>\n",
              "      <td>16</td>\n",
              "      <td>60</td>\n",
              "      <td>12</td>\n",
              "      <td>53</td>\n",
              "      <td>16</td>\n",
              "      <td>60</td>\n",
              "      <td>7</td>\n",
              "      <td>11</td>\n",
              "      <td>16</td>\n",
              "      <td>60</td>\n",
              "    </tr>\n",
              "    <tr>\n",
              "      <th>2</th>\n",
              "      <td>no</td>\n",
              "      <td>15</td>\n",
              "      <td>9</td>\n",
              "      <td>233</td>\n",
              "      <td>SW</td>\n",
              "      <td>116</td>\n",
              "      <td>https://cdn.worldweatheronline.net/images/wsym...</td>\n",
              "      <td>Partly cloudy</td>\n",
              "      <td>0.0</td>\n",
              "      <td>0.0</td>\n",
              "      <td>...</td>\n",
              "      <td>15</td>\n",
              "      <td>59</td>\n",
              "      <td>11</td>\n",
              "      <td>53</td>\n",
              "      <td>15</td>\n",
              "      <td>59</td>\n",
              "      <td>6</td>\n",
              "      <td>10</td>\n",
              "      <td>15</td>\n",
              "      <td>59</td>\n",
              "    </tr>\n",
              "    <tr>\n",
              "      <th>3</th>\n",
              "      <td>no</td>\n",
              "      <td>15</td>\n",
              "      <td>8</td>\n",
              "      <td>235</td>\n",
              "      <td>SW</td>\n",
              "      <td>116</td>\n",
              "      <td>https://cdn.worldweatheronline.net/images/wsym...</td>\n",
              "      <td>Partly cloudy</td>\n",
              "      <td>0.0</td>\n",
              "      <td>0.0</td>\n",
              "      <td>...</td>\n",
              "      <td>15</td>\n",
              "      <td>58</td>\n",
              "      <td>11</td>\n",
              "      <td>52</td>\n",
              "      <td>14</td>\n",
              "      <td>58</td>\n",
              "      <td>6</td>\n",
              "      <td>9</td>\n",
              "      <td>14</td>\n",
              "      <td>58</td>\n",
              "    </tr>\n",
              "    <tr>\n",
              "      <th>4</th>\n",
              "      <td>no</td>\n",
              "      <td>15</td>\n",
              "      <td>7</td>\n",
              "      <td>229</td>\n",
              "      <td>SW</td>\n",
              "      <td>116</td>\n",
              "      <td>https://cdn.worldweatheronline.net/images/wsym...</td>\n",
              "      <td>Partly cloudy</td>\n",
              "      <td>0.0</td>\n",
              "      <td>0.0</td>\n",
              "      <td>...</td>\n",
              "      <td>15</td>\n",
              "      <td>59</td>\n",
              "      <td>11</td>\n",
              "      <td>52</td>\n",
              "      <td>15</td>\n",
              "      <td>59</td>\n",
              "      <td>5</td>\n",
              "      <td>8</td>\n",
              "      <td>15</td>\n",
              "      <td>59</td>\n",
              "    </tr>\n",
              "  </tbody>\n",
              "</table>\n",
              "<p>5 rows × 26 columns</p>\n",
              "</div>\n",
              "      <button class=\"colab-df-convert\" onclick=\"convertToInteractive('df-31e1f04f-5e6d-4e03-8569-2332d70b55e3')\"\n",
              "              title=\"Convert this dataframe to an interactive table.\"\n",
              "              style=\"display:none;\">\n",
              "        \n",
              "  <svg xmlns=\"http://www.w3.org/2000/svg\" height=\"24px\"viewBox=\"0 0 24 24\"\n",
              "       width=\"24px\">\n",
              "    <path d=\"M0 0h24v24H0V0z\" fill=\"none\"/>\n",
              "    <path d=\"M18.56 5.44l.94 2.06.94-2.06 2.06-.94-2.06-.94-.94-2.06-.94 2.06-2.06.94zm-11 1L8.5 8.5l.94-2.06 2.06-.94-2.06-.94L8.5 2.5l-.94 2.06-2.06.94zm10 10l.94 2.06.94-2.06 2.06-.94-2.06-.94-.94-2.06-.94 2.06-2.06.94z\"/><path d=\"M17.41 7.96l-1.37-1.37c-.4-.4-.92-.59-1.43-.59-.52 0-1.04.2-1.43.59L10.3 9.45l-7.72 7.72c-.78.78-.78 2.05 0 2.83L4 21.41c.39.39.9.59 1.41.59.51 0 1.02-.2 1.41-.59l7.78-7.78 2.81-2.81c.8-.78.8-2.07 0-2.86zM5.41 20L4 18.59l7.72-7.72 1.47 1.35L5.41 20z\"/>\n",
              "  </svg>\n",
              "      </button>\n",
              "      \n",
              "  <style>\n",
              "    .colab-df-container {\n",
              "      display:flex;\n",
              "      flex-wrap:wrap;\n",
              "      gap: 12px;\n",
              "    }\n",
              "\n",
              "    .colab-df-convert {\n",
              "      background-color: #E8F0FE;\n",
              "      border: none;\n",
              "      border-radius: 50%;\n",
              "      cursor: pointer;\n",
              "      display: none;\n",
              "      fill: #1967D2;\n",
              "      height: 32px;\n",
              "      padding: 0 0 0 0;\n",
              "      width: 32px;\n",
              "    }\n",
              "\n",
              "    .colab-df-convert:hover {\n",
              "      background-color: #E2EBFA;\n",
              "      box-shadow: 0px 1px 2px rgba(60, 64, 67, 0.3), 0px 1px 3px 1px rgba(60, 64, 67, 0.15);\n",
              "      fill: #174EA6;\n",
              "    }\n",
              "\n",
              "    [theme=dark] .colab-df-convert {\n",
              "      background-color: #3B4455;\n",
              "      fill: #D2E3FC;\n",
              "    }\n",
              "\n",
              "    [theme=dark] .colab-df-convert:hover {\n",
              "      background-color: #434B5C;\n",
              "      box-shadow: 0px 1px 3px 1px rgba(0, 0, 0, 0.15);\n",
              "      filter: drop-shadow(0px 1px 2px rgba(0, 0, 0, 0.3));\n",
              "      fill: #FFFFFF;\n",
              "    }\n",
              "  </style>\n",
              "\n",
              "      <script>\n",
              "        const buttonEl =\n",
              "          document.querySelector('#df-31e1f04f-5e6d-4e03-8569-2332d70b55e3 button.colab-df-convert');\n",
              "        buttonEl.style.display =\n",
              "          google.colab.kernel.accessAllowed ? 'block' : 'none';\n",
              "\n",
              "        async function convertToInteractive(key) {\n",
              "          const element = document.querySelector('#df-31e1f04f-5e6d-4e03-8569-2332d70b55e3');\n",
              "          const dataTable =\n",
              "            await google.colab.kernel.invokeFunction('convertToInteractive',\n",
              "                                                     [key], {});\n",
              "          if (!dataTable) return;\n",
              "\n",
              "          const docLinkHtml = 'Like what you see? Visit the ' +\n",
              "            '<a target=\"_blank\" href=https://colab.research.google.com/notebooks/data_table.ipynb>data table notebook</a>'\n",
              "            + ' to learn more about interactive tables.';\n",
              "          element.innerHTML = '';\n",
              "          dataTable['output_type'] = 'display_data';\n",
              "          await google.colab.output.renderOutput(dataTable, element);\n",
              "          const docLink = document.createElement('div');\n",
              "          docLink.innerHTML = docLinkHtml;\n",
              "          element.appendChild(docLink);\n",
              "        }\n",
              "      </script>\n",
              "    </div>\n",
              "  </div>\n",
              "  "
            ],
            "text/plain": [
              "  isdaytime  tempC  windspeedKmph  winddirdegree winddir16point  weatherCode  \\\n",
              "0        no     16             10            228             SW          116   \n",
              "1        no     16              9            230             SW          116   \n",
              "2        no     15              9            233             SW          116   \n",
              "3        no     15              8            235             SW          116   \n",
              "4        no     15              7            229             SW          116   \n",
              "\n",
              "                                      weatherIconUrl    weatherDesc  precipMM  \\\n",
              "0  https://cdn.worldweatheronline.net/images/wsym...  Partly cloudy       0.0   \n",
              "1  https://cdn.worldweatheronline.net/images/wsym...  Partly cloudy       0.0   \n",
              "2  https://cdn.worldweatheronline.net/images/wsym...  Partly cloudy       0.0   \n",
              "3  https://cdn.worldweatheronline.net/images/wsym...  Partly cloudy       0.0   \n",
              "4  https://cdn.worldweatheronline.net/images/wsym...  Partly cloudy       0.0   \n",
              "\n",
              "   precipInches  ...  HeatIndexC  HeatIndexF  DewPointC  DewPointF  \\\n",
              "0           0.0  ...          16          61         12         54   \n",
              "1           0.0  ...          16          60         12         53   \n",
              "2           0.0  ...          15          59         11         53   \n",
              "3           0.0  ...          15          58         11         52   \n",
              "4           0.0  ...          15          59         11         52   \n",
              "\n",
              "   WindChillC  WindChillF  WindGustMiles  WindGustKmph  FeelsLikeC  FeelsLikeF  \n",
              "0          16          61              7            12          16          61  \n",
              "1          16          60              7            11          16          60  \n",
              "2          15          59              6            10          15          59  \n",
              "3          14          58              6             9          14          58  \n",
              "4          15          59              5             8          15          59  \n",
              "\n",
              "[5 rows x 26 columns]"
            ]
          },
          "metadata": {},
          "execution_count": 85
        }
      ]
    },
    {
      "cell_type": "code",
      "source": [
        "weather = weather.drop(labels = ['winddir16point', 'weatherIconUrl', 'precipInches', 'visibilityMiles', 'pressureInches',\n",
        "                                 'HeatIndexF', 'DewPointF', 'WindChillF', 'WindGustMiles', 'FeelsLikeF'], axis = 1)"
      ],
      "metadata": {
        "id": "_RDkAwtl9t92"
      },
      "execution_count": 86,
      "outputs": []
    },
    {
      "cell_type": "code",
      "source": [
        "weather.isna().sum()"
      ],
      "metadata": {
        "colab": {
          "base_uri": "https://localhost:8080/"
        },
        "id": "-ru6tVFl_MWx",
        "outputId": "d687a7ac-9834-4de1-9ea5-b02c1051a021"
      },
      "execution_count": 87,
      "outputs": [
        {
          "output_type": "execute_result",
          "data": {
            "text/plain": [
              "isdaytime        0\n",
              "tempC            0\n",
              "windspeedKmph    0\n",
              "winddirdegree    0\n",
              "weatherCode      0\n",
              "weatherDesc      0\n",
              "precipMM         0\n",
              "humidity         0\n",
              "visibilityKm     0\n",
              "pressureMB       0\n",
              "cloudcover       0\n",
              "HeatIndexC       0\n",
              "DewPointC        0\n",
              "WindChillC       0\n",
              "WindGustKmph     0\n",
              "FeelsLikeC       0\n",
              "dtype: int64"
            ]
          },
          "metadata": {},
          "execution_count": 87
        }
      ]
    },
    {
      "cell_type": "code",
      "source": [
        "weather.head()\n",
        "weather = weather.drop('isdaytime', axis = 1)"
      ],
      "metadata": {
        "id": "8PWBPQSA_T8o"
      },
      "execution_count": 88,
      "outputs": []
    },
    {
      "cell_type": "code",
      "source": [
        "from pandas import unique"
      ],
      "metadata": {
        "id": "oqBsiaQw_bQh"
      },
      "execution_count": 89,
      "outputs": []
    },
    {
      "cell_type": "code",
      "source": [
        "weather.weatherDesc.unique()"
      ],
      "metadata": {
        "colab": {
          "base_uri": "https://localhost:8080/"
        },
        "id": "Zn2PVSZ0_1ev",
        "outputId": "b49a0375-c258-4d26-ed52-208c4b8b571b"
      },
      "execution_count": 90,
      "outputs": [
        {
          "output_type": "execute_result",
          "data": {
            "text/plain": [
              "array(['Partly cloudy', 'Cloudy', 'Overcast', 'Light drizzle',\n",
              "       'Light rain shower', 'Patchy rain possible', 'Moderate rain',\n",
              "       'Moderate rain at times', 'Light rain', 'Heavy rain',\n",
              "       'Patchy light rain', 'Moderate or heavy rain shower',\n",
              "       'Moderate or heavy rain with thunder', 'Torrential rain shower',\n",
              "       'Clear', 'Sunny'], dtype=object)"
            ]
          },
          "metadata": {},
          "execution_count": 90
        }
      ]
    },
    {
      "cell_type": "code",
      "source": [
        "laberer = LabelEncoder()\n",
        "weather.weatherDesc = laberer.fit_transform(weather.weatherDesc)"
      ],
      "metadata": {
        "id": "PM_kUZrEBKOT"
      },
      "execution_count": 91,
      "outputs": []
    },
    {
      "cell_type": "code",
      "source": [
        "weather.head()"
      ],
      "metadata": {
        "colab": {
          "base_uri": "https://localhost:8080/",
          "height": 270
        },
        "id": "zuiWj8VlCAzg",
        "outputId": "5cd5a53b-81f3-4239-84ff-00f7e03fab6b"
      },
      "execution_count": 92,
      "outputs": [
        {
          "output_type": "execute_result",
          "data": {
            "text/html": [
              "\n",
              "  <div id=\"df-ead0632c-3939-4d16-88f0-b887907ba994\">\n",
              "    <div class=\"colab-df-container\">\n",
              "      <div>\n",
              "<style scoped>\n",
              "    .dataframe tbody tr th:only-of-type {\n",
              "        vertical-align: middle;\n",
              "    }\n",
              "\n",
              "    .dataframe tbody tr th {\n",
              "        vertical-align: top;\n",
              "    }\n",
              "\n",
              "    .dataframe thead th {\n",
              "        text-align: right;\n",
              "    }\n",
              "</style>\n",
              "<table border=\"1\" class=\"dataframe\">\n",
              "  <thead>\n",
              "    <tr style=\"text-align: right;\">\n",
              "      <th></th>\n",
              "      <th>tempC</th>\n",
              "      <th>windspeedKmph</th>\n",
              "      <th>winddirdegree</th>\n",
              "      <th>weatherCode</th>\n",
              "      <th>weatherDesc</th>\n",
              "      <th>precipMM</th>\n",
              "      <th>humidity</th>\n",
              "      <th>visibilityKm</th>\n",
              "      <th>pressureMB</th>\n",
              "      <th>cloudcover</th>\n",
              "      <th>HeatIndexC</th>\n",
              "      <th>DewPointC</th>\n",
              "      <th>WindChillC</th>\n",
              "      <th>WindGustKmph</th>\n",
              "      <th>FeelsLikeC</th>\n",
              "    </tr>\n",
              "  </thead>\n",
              "  <tbody>\n",
              "    <tr>\n",
              "      <th>0</th>\n",
              "      <td>16</td>\n",
              "      <td>10</td>\n",
              "      <td>228</td>\n",
              "      <td>116</td>\n",
              "      <td>11</td>\n",
              "      <td>0.0</td>\n",
              "      <td>77</td>\n",
              "      <td>10</td>\n",
              "      <td>1023</td>\n",
              "      <td>7</td>\n",
              "      <td>16</td>\n",
              "      <td>12</td>\n",
              "      <td>16</td>\n",
              "      <td>12</td>\n",
              "      <td>16</td>\n",
              "    </tr>\n",
              "    <tr>\n",
              "      <th>1</th>\n",
              "      <td>16</td>\n",
              "      <td>9</td>\n",
              "      <td>230</td>\n",
              "      <td>116</td>\n",
              "      <td>11</td>\n",
              "      <td>0.0</td>\n",
              "      <td>78</td>\n",
              "      <td>10</td>\n",
              "      <td>1023</td>\n",
              "      <td>6</td>\n",
              "      <td>16</td>\n",
              "      <td>12</td>\n",
              "      <td>16</td>\n",
              "      <td>11</td>\n",
              "      <td>16</td>\n",
              "    </tr>\n",
              "    <tr>\n",
              "      <th>2</th>\n",
              "      <td>15</td>\n",
              "      <td>9</td>\n",
              "      <td>233</td>\n",
              "      <td>116</td>\n",
              "      <td>11</td>\n",
              "      <td>0.0</td>\n",
              "      <td>79</td>\n",
              "      <td>10</td>\n",
              "      <td>1022</td>\n",
              "      <td>5</td>\n",
              "      <td>15</td>\n",
              "      <td>11</td>\n",
              "      <td>15</td>\n",
              "      <td>10</td>\n",
              "      <td>15</td>\n",
              "    </tr>\n",
              "    <tr>\n",
              "      <th>3</th>\n",
              "      <td>15</td>\n",
              "      <td>8</td>\n",
              "      <td>235</td>\n",
              "      <td>116</td>\n",
              "      <td>11</td>\n",
              "      <td>0.0</td>\n",
              "      <td>79</td>\n",
              "      <td>10</td>\n",
              "      <td>1022</td>\n",
              "      <td>4</td>\n",
              "      <td>15</td>\n",
              "      <td>11</td>\n",
              "      <td>14</td>\n",
              "      <td>9</td>\n",
              "      <td>14</td>\n",
              "    </tr>\n",
              "    <tr>\n",
              "      <th>4</th>\n",
              "      <td>15</td>\n",
              "      <td>7</td>\n",
              "      <td>229</td>\n",
              "      <td>116</td>\n",
              "      <td>11</td>\n",
              "      <td>0.0</td>\n",
              "      <td>77</td>\n",
              "      <td>10</td>\n",
              "      <td>1022</td>\n",
              "      <td>4</td>\n",
              "      <td>15</td>\n",
              "      <td>11</td>\n",
              "      <td>15</td>\n",
              "      <td>8</td>\n",
              "      <td>15</td>\n",
              "    </tr>\n",
              "  </tbody>\n",
              "</table>\n",
              "</div>\n",
              "      <button class=\"colab-df-convert\" onclick=\"convertToInteractive('df-ead0632c-3939-4d16-88f0-b887907ba994')\"\n",
              "              title=\"Convert this dataframe to an interactive table.\"\n",
              "              style=\"display:none;\">\n",
              "        \n",
              "  <svg xmlns=\"http://www.w3.org/2000/svg\" height=\"24px\"viewBox=\"0 0 24 24\"\n",
              "       width=\"24px\">\n",
              "    <path d=\"M0 0h24v24H0V0z\" fill=\"none\"/>\n",
              "    <path d=\"M18.56 5.44l.94 2.06.94-2.06 2.06-.94-2.06-.94-.94-2.06-.94 2.06-2.06.94zm-11 1L8.5 8.5l.94-2.06 2.06-.94-2.06-.94L8.5 2.5l-.94 2.06-2.06.94zm10 10l.94 2.06.94-2.06 2.06-.94-2.06-.94-.94-2.06-.94 2.06-2.06.94z\"/><path d=\"M17.41 7.96l-1.37-1.37c-.4-.4-.92-.59-1.43-.59-.52 0-1.04.2-1.43.59L10.3 9.45l-7.72 7.72c-.78.78-.78 2.05 0 2.83L4 21.41c.39.39.9.59 1.41.59.51 0 1.02-.2 1.41-.59l7.78-7.78 2.81-2.81c.8-.78.8-2.07 0-2.86zM5.41 20L4 18.59l7.72-7.72 1.47 1.35L5.41 20z\"/>\n",
              "  </svg>\n",
              "      </button>\n",
              "      \n",
              "  <style>\n",
              "    .colab-df-container {\n",
              "      display:flex;\n",
              "      flex-wrap:wrap;\n",
              "      gap: 12px;\n",
              "    }\n",
              "\n",
              "    .colab-df-convert {\n",
              "      background-color: #E8F0FE;\n",
              "      border: none;\n",
              "      border-radius: 50%;\n",
              "      cursor: pointer;\n",
              "      display: none;\n",
              "      fill: #1967D2;\n",
              "      height: 32px;\n",
              "      padding: 0 0 0 0;\n",
              "      width: 32px;\n",
              "    }\n",
              "\n",
              "    .colab-df-convert:hover {\n",
              "      background-color: #E2EBFA;\n",
              "      box-shadow: 0px 1px 2px rgba(60, 64, 67, 0.3), 0px 1px 3px 1px rgba(60, 64, 67, 0.15);\n",
              "      fill: #174EA6;\n",
              "    }\n",
              "\n",
              "    [theme=dark] .colab-df-convert {\n",
              "      background-color: #3B4455;\n",
              "      fill: #D2E3FC;\n",
              "    }\n",
              "\n",
              "    [theme=dark] .colab-df-convert:hover {\n",
              "      background-color: #434B5C;\n",
              "      box-shadow: 0px 1px 3px 1px rgba(0, 0, 0, 0.15);\n",
              "      filter: drop-shadow(0px 1px 2px rgba(0, 0, 0, 0.3));\n",
              "      fill: #FFFFFF;\n",
              "    }\n",
              "  </style>\n",
              "\n",
              "      <script>\n",
              "        const buttonEl =\n",
              "          document.querySelector('#df-ead0632c-3939-4d16-88f0-b887907ba994 button.colab-df-convert');\n",
              "        buttonEl.style.display =\n",
              "          google.colab.kernel.accessAllowed ? 'block' : 'none';\n",
              "\n",
              "        async function convertToInteractive(key) {\n",
              "          const element = document.querySelector('#df-ead0632c-3939-4d16-88f0-b887907ba994');\n",
              "          const dataTable =\n",
              "            await google.colab.kernel.invokeFunction('convertToInteractive',\n",
              "                                                     [key], {});\n",
              "          if (!dataTable) return;\n",
              "\n",
              "          const docLinkHtml = 'Like what you see? Visit the ' +\n",
              "            '<a target=\"_blank\" href=https://colab.research.google.com/notebooks/data_table.ipynb>data table notebook</a>'\n",
              "            + ' to learn more about interactive tables.';\n",
              "          element.innerHTML = '';\n",
              "          dataTable['output_type'] = 'display_data';\n",
              "          await google.colab.output.renderOutput(dataTable, element);\n",
              "          const docLink = document.createElement('div');\n",
              "          docLink.innerHTML = docLinkHtml;\n",
              "          element.appendChild(docLink);\n",
              "        }\n",
              "      </script>\n",
              "    </div>\n",
              "  </div>\n",
              "  "
            ],
            "text/plain": [
              "   tempC  windspeedKmph  winddirdegree  weatherCode  weatherDesc  precipMM  \\\n",
              "0     16             10            228          116           11       0.0   \n",
              "1     16              9            230          116           11       0.0   \n",
              "2     15              9            233          116           11       0.0   \n",
              "3     15              8            235          116           11       0.0   \n",
              "4     15              7            229          116           11       0.0   \n",
              "\n",
              "   humidity  visibilityKm  pressureMB  cloudcover  HeatIndexC  DewPointC  \\\n",
              "0        77            10        1023           7          16         12   \n",
              "1        78            10        1023           6          16         12   \n",
              "2        79            10        1022           5          15         11   \n",
              "3        79            10        1022           4          15         11   \n",
              "4        77            10        1022           4          15         11   \n",
              "\n",
              "   WindChillC  WindGustKmph  FeelsLikeC  \n",
              "0          16            12          16  \n",
              "1          16            11          16  \n",
              "2          15            10          15  \n",
              "3          14             9          14  \n",
              "4          15             8          15  "
            ]
          },
          "metadata": {},
          "execution_count": 92
        }
      ]
    },
    {
      "cell_type": "code",
      "source": [
        "weather.weatherDesc.unique()"
      ],
      "metadata": {
        "colab": {
          "base_uri": "https://localhost:8080/"
        },
        "id": "lqSsxO_aCGRX",
        "outputId": "43740277-d498-45b4-8496-2f8616d72f11"
      },
      "execution_count": 93,
      "outputs": [
        {
          "output_type": "execute_result",
          "data": {
            "text/plain": [
              "array([11,  1, 10,  3,  5, 13,  8,  9,  4,  2, 12,  6,  7, 15,  0, 14])"
            ]
          },
          "metadata": {},
          "execution_count": 93
        }
      ]
    },
    {
      "cell_type": "code",
      "source": [
        "description = {\n",
        "    '0' : 'Partly Cloudy',\n",
        "    '1' : 'Felhos',\n",
        "    '2' : 'Overcast',\n",
        "    '3' : 'Light Drizzle',\n",
        "    '4' : 'Light rain shower',\n",
        "    '5' : 'Patchy rain possible',\n",
        "    '6' : 'Moderate rain',\n",
        "    '7' : 'Moderate rain at times',\n",
        "    '8' : 'Light rain',\n",
        "    '9' : 'Heavy rain',\n",
        "    '10' : 'Patchy light rain',\n",
        "    '11' : 'Moderate or heavy rain shower',\n",
        "    '12' : 'Moderate or heavy rain with thunder',\n",
        "    '13' : 'Torrential rain shower',\n",
        "    '14' : 'Clear',\n",
        "    '15' : 'Sunny'\n",
        "}"
      ],
      "metadata": {
        "id": "KL2DP0ElDUEc"
      },
      "execution_count": 94,
      "outputs": []
    },
    {
      "cell_type": "markdown",
      "source": [
        "# train és teszt"
      ],
      "metadata": {
        "id": "m3FyZGo2Odaa"
      }
    },
    {
      "cell_type": "code",
      "source": [
        "# x,y szétszedés\n",
        "y = weather['FeelsLikeC'].copy()\n",
        "y = y.drop(0, axis = 0)\n",
        "\n",
        "x = weather.copy().drop('FeelsLikeC', axis = 1)\n",
        "x = x.drop( index = weather.shape[0]-1, axis = 0)"
      ],
      "metadata": {
        "id": "j8n40Y9zQq1i"
      },
      "execution_count": 95,
      "outputs": []
    },
    {
      "cell_type": "code",
      "source": [
        "print(x.shape, y.shape)"
      ],
      "metadata": {
        "colab": {
          "base_uri": "https://localhost:8080/"
        },
        "id": "clhel9-rUpEB",
        "outputId": "f2d1e0fc-2aa9-4d1d-a527-385eb0214d71"
      },
      "execution_count": 96,
      "outputs": [
        {
          "output_type": "stream",
          "name": "stdout",
          "text": [
            "(1463, 14) (1463,)\n"
          ]
        }
      ]
    },
    {
      "cell_type": "code",
      "source": [
        "x_train, x_test, y_train, y_test = train_test_split(x, y, test_size = 0.1, shuffle = True)"
      ],
      "metadata": {
        "id": "I2su1OjWVO3_"
      },
      "execution_count": 97,
      "outputs": []
    },
    {
      "cell_type": "code",
      "source": [
        "# normalizálás\n",
        "\n",
        "normalizer=StandardScaler()\n",
        "normalizer.fit(x_train)\n",
        "x_train = normalizer.transform(x_train)\n",
        "x_test = normalizer.transform(x_test)"
      ],
      "metadata": {
        "id": "JqzKsRJ8Vv4J"
      },
      "execution_count": 98,
      "outputs": []
    },
    {
      "cell_type": "markdown",
      "source": [
        "## Architektúra"
      ],
      "metadata": {
        "id": "suSczzCbWEXP"
      }
    },
    {
      "cell_type": "code",
      "source": [
        "input1 = Input(shape=(x_train.shape[1]))\n",
        "x = Dense(32, activation='relu')(input1)\n",
        "x = Dense(64, activation='relu')(x)\n",
        "x = Dense(64, activation='relu')(x)\n",
        "output1 = Dense(1, activation='linear')(x)"
      ],
      "metadata": {
        "id": "O1-4u7NhV7fn"
      },
      "execution_count": 99,
      "outputs": []
    },
    {
      "cell_type": "code",
      "source": [
        "model = keras.Model(input1, output1)\n",
        "plot_model(model, show_shapes=True)"
      ],
      "metadata": {
        "colab": {
          "base_uri": "https://localhost:8080/",
          "height": 533
        },
        "id": "6QrDzp13WQUa",
        "outputId": "87a2bf75-15af-4a3d-b981-be37515d28dd"
      },
      "execution_count": 100,
      "outputs": [
        {
          "output_type": "execute_result",
          "data": {
            "image/png": "[encoded data removed]",
            "text/plain": [
              "<IPython.core.display.Image object>"
            ]
          },
          "metadata": {},
          "execution_count": 100
        }
      ]
    },
    {
      "cell_type": "code",
      "source": [
        "# early stopping\n",
        "early_stopping_callback = EarlyStopping(patience = 20, restore_best_weights = True)\n",
        "model.compile(optimizer = 'adam', loss = 'MSE')"
      ],
      "metadata": {
        "id": "Yn_bzVXVWVRe"
      },
      "execution_count": 101,
      "outputs": []
    },
    {
      "cell_type": "code",
      "source": [
        "model.fit(x = x_train, y = y_train, epochs = 200, validation_split = 0.1, callbacks = [early_stopping_callback])"
      ],
      "metadata": {
        "colab": {
          "base_uri": "https://localhost:8080/"
        },
        "id": "wFKEV6RiW3gq",
        "outputId": "3f983b98-13ae-4f47-c648-8004589ebfee"
      },
      "execution_count": 102,
      "outputs": [
        {
          "output_type": "stream",
          "name": "stdout",
          "text": [
            "Epoch 1/200\n",
            "37/37 [==============================] - 1s 6ms/step - loss: 266.8518 - val_loss: 122.6702\n",
            "Epoch 2/200\n",
            "37/37 [==============================] - 0s 3ms/step - loss: 40.3516 - val_loss: 23.1296\n",
            "Epoch 3/200\n",
            "37/37 [==============================] - 0s 3ms/step - loss: 15.4109 - val_loss: 14.3496\n",
            "Epoch 4/200\n",
            "37/37 [==============================] - 0s 4ms/step - loss: 9.6353 - val_loss: 10.3234\n",
            "Epoch 5/200\n",
            "37/37 [==============================] - 0s 4ms/step - loss: 6.9476 - val_loss: 7.6133\n",
            "Epoch 6/200\n",
            "37/37 [==============================] - 0s 3ms/step - loss: 5.5267 - val_loss: 6.2789\n",
            "Epoch 7/200\n",
            "37/37 [==============================] - 0s 4ms/step - loss: 4.6454 - val_loss: 5.5180\n",
            "Epoch 8/200\n",
            "37/37 [==============================] - 0s 4ms/step - loss: 4.0247 - val_loss: 4.7285\n",
            "Epoch 9/200\n",
            "37/37 [==============================] - 0s 3ms/step - loss: 3.6091 - val_loss: 4.3229\n",
            "Epoch 10/200\n",
            "37/37 [==============================] - 0s 4ms/step - loss: 3.2427 - val_loss: 3.9198\n",
            "Epoch 11/200\n",
            "37/37 [==============================] - 0s 3ms/step - loss: 2.9119 - val_loss: 3.7105\n",
            "Epoch 12/200\n",
            "37/37 [==============================] - 0s 4ms/step - loss: 2.6859 - val_loss: 3.4106\n",
            "Epoch 13/200\n",
            "37/37 [==============================] - 0s 4ms/step - loss: 2.4919 - val_loss: 3.4554\n",
            "Epoch 14/200\n",
            "37/37 [==============================] - 0s 3ms/step - loss: 2.3760 - val_loss: 3.1214\n",
            "Epoch 15/200\n",
            "37/37 [==============================] - 0s 3ms/step - loss: 2.1955 - val_loss: 2.8432\n",
            "Epoch 16/200\n",
            "37/37 [==============================] - 0s 3ms/step - loss: 2.0819 - val_loss: 3.0357\n",
            "Epoch 17/200\n",
            "37/37 [==============================] - 0s 4ms/step - loss: 1.9575 - val_loss: 2.5701\n",
            "Epoch 18/200\n",
            "37/37 [==============================] - 0s 3ms/step - loss: 1.8808 - val_loss: 2.5146\n",
            "Epoch 19/200\n",
            "37/37 [==============================] - 0s 3ms/step - loss: 1.8112 - val_loss: 2.6704\n",
            "Epoch 20/200\n",
            "37/37 [==============================] - 0s 3ms/step - loss: 1.7486 - val_loss: 2.7078\n",
            "Epoch 21/200\n",
            "37/37 [==============================] - 0s 4ms/step - loss: 1.6537 - val_loss: 2.2045\n",
            "Epoch 22/200\n",
            "37/37 [==============================] - 0s 4ms/step - loss: 1.5917 - val_loss: 2.1297\n",
            "Epoch 23/200\n",
            "37/37 [==============================] - 0s 3ms/step - loss: 1.5315 - val_loss: 2.2746\n",
            "Epoch 24/200\n",
            "37/37 [==============================] - 0s 3ms/step - loss: 1.5312 - val_loss: 2.0252\n",
            "Epoch 25/200\n",
            "37/37 [==============================] - 0s 3ms/step - loss: 1.4421 - val_loss: 2.0786\n",
            "Epoch 26/200\n",
            "37/37 [==============================] - 0s 4ms/step - loss: 1.4153 - val_loss: 1.9913\n",
            "Epoch 27/200\n",
            "37/37 [==============================] - 0s 3ms/step - loss: 1.3646 - val_loss: 2.0280\n",
            "Epoch 28/200\n",
            "37/37 [==============================] - 0s 3ms/step - loss: 1.3390 - val_loss: 1.9739\n",
            "Epoch 29/200\n",
            "37/37 [==============================] - 0s 3ms/step - loss: 1.3435 - val_loss: 1.8577\n",
            "Epoch 30/200\n",
            "37/37 [==============================] - 0s 3ms/step - loss: 1.2987 - val_loss: 1.8685\n",
            "Epoch 31/200\n",
            "37/37 [==============================] - 0s 3ms/step - loss: 1.2578 - val_loss: 1.9315\n",
            "Epoch 32/200\n",
            "37/37 [==============================] - 0s 3ms/step - loss: 1.2521 - val_loss: 1.9825\n",
            "Epoch 33/200\n",
            "37/37 [==============================] - 0s 3ms/step - loss: 1.2193 - val_loss: 1.9070\n",
            "Epoch 34/200\n",
            "37/37 [==============================] - 0s 3ms/step - loss: 1.1923 - val_loss: 1.8084\n",
            "Epoch 35/200\n",
            "37/37 [==============================] - 0s 3ms/step - loss: 1.1573 - val_loss: 1.7909\n",
            "Epoch 36/200\n",
            "37/37 [==============================] - 0s 3ms/step - loss: 1.1522 - val_loss: 1.7726\n",
            "Epoch 37/200\n",
            "37/37 [==============================] - 0s 3ms/step - loss: 1.2199 - val_loss: 1.7244\n",
            "Epoch 38/200\n",
            "37/37 [==============================] - 0s 3ms/step - loss: 1.1728 - val_loss: 1.6518\n",
            "Epoch 39/200\n",
            "37/37 [==============================] - 0s 3ms/step - loss: 1.0900 - val_loss: 1.6793\n",
            "Epoch 40/200\n",
            "37/37 [==============================] - 0s 3ms/step - loss: 1.1122 - val_loss: 1.8718\n",
            "Epoch 41/200\n",
            "37/37 [==============================] - 0s 3ms/step - loss: 1.0774 - val_loss: 1.7914\n",
            "Epoch 42/200\n",
            "37/37 [==============================] - 0s 4ms/step - loss: 1.0669 - val_loss: 1.6847\n",
            "Epoch 43/200\n",
            "37/37 [==============================] - 0s 3ms/step - loss: 1.0689 - val_loss: 1.7605\n",
            "Epoch 44/200\n",
            "37/37 [==============================] - 0s 3ms/step - loss: 1.0665 - val_loss: 1.8694\n",
            "Epoch 45/200\n",
            "37/37 [==============================] - 0s 3ms/step - loss: 1.0676 - val_loss: 1.6894\n",
            "Epoch 46/200\n",
            "37/37 [==============================] - 0s 3ms/step - loss: 1.0179 - val_loss: 1.6383\n",
            "Epoch 47/200\n",
            "37/37 [==============================] - 0s 4ms/step - loss: 1.0340 - val_loss: 1.8492\n",
            "Epoch 48/200\n",
            "37/37 [==============================] - 0s 4ms/step - loss: 1.0366 - val_loss: 1.5753\n",
            "Epoch 49/200\n",
            "37/37 [==============================] - 0s 4ms/step - loss: 1.0034 - val_loss: 1.4604\n",
            "Epoch 50/200\n",
            "37/37 [==============================] - 0s 3ms/step - loss: 0.9691 - val_loss: 1.5714\n",
            "Epoch 51/200\n",
            "37/37 [==============================] - 0s 3ms/step - loss: 0.9949 - val_loss: 1.5403\n",
            "Epoch 52/200\n",
            "37/37 [==============================] - 0s 4ms/step - loss: 1.0082 - val_loss: 1.4768\n",
            "Epoch 53/200\n",
            "37/37 [==============================] - 0s 3ms/step - loss: 0.9767 - val_loss: 1.5101\n",
            "Epoch 54/200\n",
            "37/37 [==============================] - 0s 3ms/step - loss: 0.9449 - val_loss: 1.7161\n",
            "Epoch 55/200\n",
            "37/37 [==============================] - 0s 3ms/step - loss: 0.9699 - val_loss: 1.3971\n",
            "Epoch 56/200\n",
            "37/37 [==============================] - 0s 3ms/step - loss: 0.9879 - val_loss: 1.6304\n",
            "Epoch 57/200\n",
            "37/37 [==============================] - 0s 3ms/step - loss: 0.9542 - val_loss: 1.4836\n",
            "Epoch 58/200\n",
            "37/37 [==============================] - 0s 3ms/step - loss: 0.9565 - val_loss: 1.4417\n",
            "Epoch 59/200\n",
            "37/37 [==============================] - 0s 4ms/step - loss: 0.9160 - val_loss: 1.4637\n",
            "Epoch 60/200\n",
            "37/37 [==============================] - 0s 3ms/step - loss: 0.9040 - val_loss: 1.3974\n",
            "Epoch 61/200\n",
            "37/37 [==============================] - 0s 3ms/step - loss: 0.8925 - val_loss: 1.4127\n",
            "Epoch 62/200\n",
            "37/37 [==============================] - 0s 4ms/step - loss: 0.9498 - val_loss: 1.8410\n",
            "Epoch 63/200\n",
            "37/37 [==============================] - 0s 4ms/step - loss: 0.9249 - val_loss: 1.4107\n",
            "Epoch 64/200\n",
            "37/37 [==============================] - 0s 4ms/step - loss: 0.9037 - val_loss: 1.4467\n",
            "Epoch 65/200\n",
            "37/37 [==============================] - 0s 4ms/step - loss: 0.8830 - val_loss: 1.3703\n",
            "Epoch 66/200\n",
            "37/37 [==============================] - 0s 3ms/step - loss: 0.8785 - val_loss: 1.3818\n",
            "Epoch 67/200\n",
            "37/37 [==============================] - 0s 3ms/step - loss: 0.8500 - val_loss: 1.3443\n",
            "Epoch 68/200\n",
            "37/37 [==============================] - 0s 3ms/step - loss: 0.8789 - val_loss: 1.2794\n",
            "Epoch 69/200\n",
            "37/37 [==============================] - 0s 4ms/step - loss: 0.8769 - val_loss: 1.2961\n",
            "Epoch 70/200\n",
            "37/37 [==============================] - 0s 3ms/step - loss: 0.8870 - val_loss: 1.3196\n",
            "Epoch 71/200\n",
            "37/37 [==============================] - 0s 3ms/step - loss: 0.8612 - val_loss: 1.3321\n",
            "Epoch 72/200\n",
            "37/37 [==============================] - 0s 3ms/step - loss: 0.8439 - val_loss: 1.2732\n",
            "Epoch 73/200\n",
            "37/37 [==============================] - 0s 3ms/step - loss: 0.8088 - val_loss: 1.2448\n",
            "Epoch 74/200\n",
            "37/37 [==============================] - 0s 4ms/step - loss: 0.8324 - val_loss: 1.4370\n",
            "Epoch 75/200\n",
            "37/37 [==============================] - 0s 4ms/step - loss: 0.8432 - val_loss: 1.4050\n",
            "Epoch 76/200\n",
            "37/37 [==============================] - 0s 3ms/step - loss: 0.8614 - val_loss: 1.2291\n",
            "Epoch 77/200\n",
            "37/37 [==============================] - 0s 3ms/step - loss: 0.8125 - val_loss: 1.3727\n",
            "Epoch 78/200\n",
            "37/37 [==============================] - 0s 3ms/step - loss: 0.8299 - val_loss: 1.2369\n",
            "Epoch 79/200\n",
            "37/37 [==============================] - 0s 3ms/step - loss: 0.8198 - val_loss: 1.2674\n",
            "Epoch 80/200\n",
            "37/37 [==============================] - 0s 3ms/step - loss: 0.7888 - val_loss: 1.2188\n",
            "Epoch 81/200\n",
            "37/37 [==============================] - 0s 3ms/step - loss: 0.8538 - val_loss: 1.2255\n",
            "Epoch 82/200\n",
            "37/37 [==============================] - 0s 4ms/step - loss: 0.7893 - val_loss: 1.2380\n",
            "Epoch 83/200\n",
            "37/37 [==============================] - 0s 3ms/step - loss: 0.8608 - val_loss: 1.2147\n",
            "Epoch 84/200\n",
            "37/37 [==============================] - 0s 3ms/step - loss: 0.8141 - val_loss: 1.1963\n",
            "Epoch 85/200\n",
            "37/37 [==============================] - 0s 3ms/step - loss: 0.7799 - val_loss: 1.2574\n",
            "Epoch 86/200\n",
            "37/37 [==============================] - 0s 3ms/step - loss: 0.7757 - val_loss: 1.1729\n",
            "Epoch 87/200\n",
            "37/37 [==============================] - 0s 3ms/step - loss: 0.8099 - val_loss: 1.1963\n",
            "Epoch 88/200\n",
            "37/37 [==============================] - 0s 3ms/step - loss: 0.7951 - val_loss: 1.3032\n",
            "Epoch 89/200\n",
            "37/37 [==============================] - 0s 3ms/step - loss: 0.8113 - val_loss: 1.2325\n",
            "Epoch 90/200\n",
            "37/37 [==============================] - 0s 3ms/step - loss: 0.7548 - val_loss: 1.1269\n",
            "Epoch 91/200\n",
            "37/37 [==============================] - 0s 3ms/step - loss: 0.7838 - val_loss: 1.1482\n",
            "Epoch 92/200\n",
            "37/37 [==============================] - 0s 3ms/step - loss: 0.7739 - val_loss: 1.2672\n",
            "Epoch 93/200\n",
            "37/37 [==============================] - 0s 3ms/step - loss: 0.7749 - val_loss: 1.3701\n",
            "Epoch 94/200\n",
            "37/37 [==============================] - 0s 4ms/step - loss: 0.7297 - val_loss: 1.2735\n",
            "Epoch 95/200\n",
            "37/37 [==============================] - 0s 3ms/step - loss: 0.7206 - val_loss: 1.1261\n",
            "Epoch 96/200\n",
            "37/37 [==============================] - 0s 3ms/step - loss: 0.7453 - val_loss: 1.1722\n",
            "Epoch 97/200\n",
            "37/37 [==============================] - 0s 3ms/step - loss: 0.8019 - val_loss: 1.1168\n",
            "Epoch 98/200\n",
            "37/37 [==============================] - 0s 3ms/step - loss: 0.7653 - val_loss: 1.1220\n",
            "Epoch 99/200\n",
            "37/37 [==============================] - 0s 3ms/step - loss: 0.7554 - val_loss: 1.2132\n",
            "Epoch 100/200\n",
            "37/37 [==============================] - 0s 4ms/step - loss: 0.7112 - val_loss: 1.1400\n",
            "Epoch 101/200\n",
            "37/37 [==============================] - 0s 3ms/step - loss: 0.7282 - val_loss: 1.3584\n",
            "Epoch 102/200\n",
            "37/37 [==============================] - 0s 4ms/step - loss: 0.7424 - val_loss: 1.2544\n",
            "Epoch 103/200\n",
            "37/37 [==============================] - 0s 3ms/step - loss: 0.7118 - val_loss: 1.2465\n",
            "Epoch 104/200\n",
            "37/37 [==============================] - 0s 3ms/step - loss: 0.6988 - val_loss: 1.1385\n",
            "Epoch 105/200\n",
            "37/37 [==============================] - 0s 3ms/step - loss: 0.7001 - val_loss: 1.1843\n",
            "Epoch 106/200\n",
            "37/37 [==============================] - 0s 3ms/step - loss: 0.7088 - val_loss: 1.2357\n",
            "Epoch 107/200\n",
            "37/37 [==============================] - 0s 3ms/step - loss: 0.7113 - val_loss: 1.1470\n",
            "Epoch 108/200\n",
            "37/37 [==============================] - 0s 4ms/step - loss: 0.7179 - val_loss: 1.2077\n",
            "Epoch 109/200\n",
            "37/37 [==============================] - 0s 4ms/step - loss: 0.7519 - val_loss: 1.1304\n",
            "Epoch 110/200\n",
            "37/37 [==============================] - 0s 4ms/step - loss: 0.7262 - val_loss: 1.1041\n",
            "Epoch 111/200\n",
            "37/37 [==============================] - 0s 3ms/step - loss: 0.7211 - val_loss: 1.1594\n",
            "Epoch 112/200\n",
            "37/37 [==============================] - 0s 3ms/step - loss: 0.6894 - val_loss: 1.0735\n",
            "Epoch 113/200\n",
            "37/37 [==============================] - 0s 3ms/step - loss: 0.6667 - val_loss: 1.0931\n",
            "Epoch 114/200\n",
            "37/37 [==============================] - 0s 3ms/step - loss: 0.6471 - val_loss: 1.1722\n",
            "Epoch 115/200\n",
            "37/37 [==============================] - 0s 3ms/step - loss: 0.6827 - val_loss: 1.1045\n",
            "Epoch 116/200\n",
            "37/37 [==============================] - 0s 3ms/step - loss: 0.6619 - val_loss: 1.1080\n",
            "Epoch 117/200\n",
            "37/37 [==============================] - 0s 4ms/step - loss: 0.6993 - val_loss: 1.1526\n",
            "Epoch 118/200\n",
            "37/37 [==============================] - 0s 3ms/step - loss: 0.6700 - val_loss: 1.0478\n",
            "Epoch 119/200\n",
            "37/37 [==============================] - 0s 3ms/step - loss: 0.6585 - val_loss: 1.2501\n",
            "Epoch 120/200\n",
            "37/37 [==============================] - 0s 3ms/step - loss: 0.7098 - val_loss: 1.1387\n",
            "Epoch 121/200\n",
            "37/37 [==============================] - 0s 3ms/step - loss: 0.6678 - val_loss: 1.0858\n",
            "Epoch 122/200\n",
            "37/37 [==============================] - 0s 3ms/step - loss: 0.6710 - val_loss: 1.0901\n",
            "Epoch 123/200\n",
            "37/37 [==============================] - 0s 3ms/step - loss: 0.6552 - val_loss: 1.1383\n",
            "Epoch 124/200\n",
            "37/37 [==============================] - 0s 4ms/step - loss: 0.6935 - val_loss: 1.0980\n",
            "Epoch 125/200\n",
            "37/37 [==============================] - 0s 3ms/step - loss: 0.7038 - val_loss: 1.1221\n",
            "Epoch 126/200\n",
            "37/37 [==============================] - 0s 3ms/step - loss: 0.6780 - val_loss: 1.1035\n",
            "Epoch 127/200\n",
            "37/37 [==============================] - 0s 3ms/step - loss: 0.6101 - val_loss: 1.1250\n",
            "Epoch 128/200\n",
            "37/37 [==============================] - 0s 3ms/step - loss: 0.6545 - val_loss: 1.2289\n",
            "Epoch 129/200\n",
            "37/37 [==============================] - 0s 3ms/step - loss: 0.6490 - val_loss: 1.2353\n",
            "Epoch 130/200\n",
            "37/37 [==============================] - 0s 3ms/step - loss: 0.6655 - val_loss: 1.0805\n",
            "Epoch 131/200\n",
            "37/37 [==============================] - 0s 3ms/step - loss: 0.6201 - val_loss: 1.1551\n",
            "Epoch 132/200\n",
            "37/37 [==============================] - 0s 3ms/step - loss: 0.6070 - val_loss: 1.0760\n",
            "Epoch 133/200\n",
            "37/37 [==============================] - 0s 3ms/step - loss: 0.6384 - val_loss: 1.1292\n",
            "Epoch 134/200\n",
            "37/37 [==============================] - 0s 3ms/step - loss: 0.6067 - val_loss: 1.1066\n",
            "Epoch 135/200\n",
            "37/37 [==============================] - 0s 3ms/step - loss: 0.6149 - val_loss: 1.1001\n",
            "Epoch 136/200\n",
            "37/37 [==============================] - 0s 3ms/step - loss: 0.6280 - val_loss: 1.1305\n",
            "Epoch 137/200\n",
            "37/37 [==============================] - 0s 3ms/step - loss: 0.6484 - val_loss: 1.3738\n",
            "Epoch 138/200\n",
            "37/37 [==============================] - 0s 3ms/step - loss: 0.6601 - val_loss: 1.0978\n"
          ]
        },
        {
          "output_type": "execute_result",
          "data": {
            "text/plain": [
              "<keras.callbacks.History at 0x7f3da1da9f90>"
            ]
          },
          "metadata": {},
          "execution_count": 102
        }
      ]
    },
    {
      "cell_type": "code",
      "source": [
        "model.evaluate(x_test, y_test)"
      ],
      "metadata": {
        "colab": {
          "base_uri": "https://localhost:8080/"
        },
        "id": "ReE5CT9tXLU0",
        "outputId": "0ca45be8-e00d-4447-ac79-29b63acd6f42"
      },
      "execution_count": 103,
      "outputs": [
        {
          "output_type": "stream",
          "name": "stdout",
          "text": [
            "5/5 [==============================] - 0s 3ms/step - loss: 0.9563\n"
          ]
        },
        {
          "output_type": "execute_result",
          "data": {
            "text/plain": [
              "0.9562876224517822"
            ]
          },
          "metadata": {},
          "execution_count": 103
        }
      ]
    },
    {
      "cell_type": "code",
      "source": [
        "prediction = model.predict(x_test[:4]) \n",
        "prediction"
      ],
      "metadata": {
        "colab": {
          "base_uri": "https://localhost:8080/"
        },
        "id": "sFXR6OwaXfRK",
        "outputId": "3f215f47-af21-4b70-df90-760704ed4ede"
      },
      "execution_count": 104,
      "outputs": [
        {
          "output_type": "execute_result",
          "data": {
            "text/plain": [
              "array([[19.539204],\n",
              "       [23.634052],\n",
              "       [25.079905],\n",
              "       [13.229076]], dtype=float32)"
            ]
          },
          "metadata": {},
          "execution_count": 104
        }
      ]
    },
    {
      "cell_type": "code",
      "source": [
        ""
      ],
      "metadata": {
        "id": "arBIhvyqXmbD"
      },
      "execution_count": null,
      "outputs": []
    }
  ]
}