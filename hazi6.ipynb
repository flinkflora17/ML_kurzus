{
  "nbformat": 4,
  "nbformat_minor": 0,
  "metadata": {
    "colab": {
      "name": "hazi6.ipynb",
      "provenance": [],
      "authorship_tag": "ABX9TyMscGq8NU1wZbWGK8mxs696",
      "include_colab_link": true
    },
    "kernelspec": {
      "name": "python3",
      "display_name": "Python 3"
    },
    "language_info": {
      "name": "python"
    },
    "accelerator": "GPU"
  },
  "cells": [
    {
      "cell_type": "markdown",
      "metadata": {
        "id": "view-in-github",
        "colab_type": "text"
      },
      "source": [
        "<a href=\"https://colab.research.google.com/github/flinkflora17/ML_kurzus/blob/main/hazi6.ipynb\" target=\"_parent\"><img src=\"https://colab.research.google.com/assets/colab-badge.svg\" alt=\"Open In Colab\"/></a>"
      ]
    },
    {
      "cell_type": "code",
      "execution_count": 11,
      "metadata": {
        "id": "7yPEUSnv4BWD"
      },
      "outputs": [],
      "source": [
        "import numpy as np\n",
        "import matplotlib.pyplot as plt\n",
        "import pandas as pd\n",
        "from sklearn.preprocessing import MinMaxScaler\n",
        "from keras.models import Sequential\n",
        "from keras.layers import LSTM, Dropout, Dense"
      ]
    },
    {
      "cell_type": "code",
      "source": [
        "#adatok beolvasása, train df\n",
        "\n",
        "url = 'https://raw.githubusercontent.com/mwitiderrick/stockprice/master/NSE-TATAGLOBAL.csv'\n",
        "dataset_train = pd.read_csv(url)\n",
        "training_set = dataset_train.iloc[:, 1:2].values"
      ],
      "metadata": {
        "id": "30lKtDFO4WvE"
      },
      "execution_count": 2,
      "outputs": []
    },
    {
      "cell_type": "code",
      "source": [
        "dataset_train.head"
      ],
      "metadata": {
        "colab": {
          "base_uri": "https://localhost:8080/"
        },
        "id": "ZTuEq4uB45Fj",
        "outputId": "f41bdc9d-e7cd-41bb-9814-3d0d8476d147"
      },
      "execution_count": 3,
      "outputs": [
        {
          "output_type": "execute_result",
          "data": {
            "text/plain": [
              "<bound method NDFrame.head of             Date    Open    High     Low    Last   Close  \\\n",
              "0     2018-09-28  234.05  235.95  230.20  233.50  233.75   \n",
              "1     2018-09-27  234.55  236.80  231.10  233.80  233.25   \n",
              "2     2018-09-26  240.00  240.00  232.50  235.00  234.25   \n",
              "3     2018-09-25  233.30  236.75  232.00  236.25  236.10   \n",
              "4     2018-09-24  233.55  239.20  230.75  234.00  233.30   \n",
              "...          ...     ...     ...     ...     ...     ...   \n",
              "2030  2010-07-27  117.60  119.50  112.00  118.80  118.65   \n",
              "2031  2010-07-26  120.10  121.00  117.10  117.10  117.60   \n",
              "2032  2010-07-23  121.80  121.95  120.25  120.35  120.65   \n",
              "2033  2010-07-22  120.30  122.00  120.25  120.75  120.90   \n",
              "2034  2010-07-21  122.10  123.00  121.05  121.10  121.55   \n",
              "\n",
              "      Total Trade Quantity  Turnover (Lacs)  \n",
              "0                  3069914          7162.35  \n",
              "1                  5082859         11859.95  \n",
              "2                  2240909          5248.60  \n",
              "3                  2349368          5503.90  \n",
              "4                  3423509          7999.55  \n",
              "...                    ...              ...  \n",
              "2030                586100           694.98  \n",
              "2031                658440           780.01  \n",
              "2032                281312           340.31  \n",
              "2033                293312           355.17  \n",
              "2034                658666           803.56  \n",
              "\n",
              "[2035 rows x 8 columns]>"
            ]
          },
          "metadata": {},
          "execution_count": 3
        }
      ]
    },
    {
      "cell_type": "code",
      "source": [
        "#normalizálás\n",
        "sc = MinMaxScaler(feature_range=(0,1))\n",
        "training_set_scaled = sc.fit_transform(training_set)"
      ],
      "metadata": {
        "id": "xD241ipm5AgI"
      },
      "execution_count": 7,
      "outputs": []
    },
    {
      "cell_type": "code",
      "source": [
        "x_train = []\n",
        "y_train = []\n",
        "\n",
        "for i in range(60, 2035):\n",
        "  x_train.append(training_set_scaled[i-60:i, 0])\n",
        "  y_train.append(training_set_scaled[i, 0])\n",
        "\n",
        "x_train, y_train = np.array(x_train), np.array(y_train)\n",
        "x_train = np.reshape(x_train, (x_train.shape[0], x_train.shape[1], 1))"
      ],
      "metadata": {
        "id": "18zlstLi5Sa6"
      },
      "execution_count": 10,
      "outputs": []
    },
    {
      "cell_type": "markdown",
      "source": [
        "### Modell építése"
      ],
      "metadata": {
        "id": "74wvmMna6FlM"
      }
    },
    {
      "cell_type": "code",
      "source": [
        "model = Sequential()\n",
        "model.add(LSTM(units=50, return_sequences=True, input_shape=(x_train.shape[1], 1)))\n",
        "model.add(Dropout(0.2))\n",
        "model.add(LSTM(units = 50, return_sequences = True))\n",
        "model.add(Dropout(0.2))\n",
        "model.add(LSTM(units = 50, return_sequences = True))\n",
        "model.add(Dropout(0.2))\n",
        "model.add(LSTM(units = 50))\n",
        "model.add(Dropout(0.2))\n",
        "model.add(Dense(units = 1))\n",
        "model.compile(optimizer = 'adam', loss = 'mean_squared_error')\n",
        "model.fit(x_train, y_train, epochs = 100, batch_size = 32)"
      ],
      "metadata": {
        "colab": {
          "base_uri": "https://localhost:8080/"
        },
        "id": "SU5993yG5dQ9",
        "outputId": "53a1ab08-464e-4550-84ae-56f3e079965b"
      },
      "execution_count": 12,
      "outputs": [
        {
          "output_type": "stream",
          "name": "stdout",
          "text": [
            "Epoch 1/100\n",
            "62/62 [==============================] - 14s 61ms/step - loss: 0.0080\n",
            "Epoch 2/100\n",
            "62/62 [==============================] - 4s 61ms/step - loss: 0.0032\n",
            "Epoch 3/100\n",
            "62/62 [==============================] - 4s 61ms/step - loss: 0.0027\n",
            "Epoch 4/100\n",
            "62/62 [==============================] - 4s 63ms/step - loss: 0.0025\n",
            "Epoch 5/100\n",
            "62/62 [==============================] - 4s 62ms/step - loss: 0.0026\n",
            "Epoch 6/100\n",
            "62/62 [==============================] - 4s 62ms/step - loss: 0.0023\n",
            "Epoch 7/100\n",
            "62/62 [==============================] - 4s 65ms/step - loss: 0.0020\n",
            "Epoch 8/100\n",
            "62/62 [==============================] - 4s 62ms/step - loss: 0.0021\n",
            "Epoch 9/100\n",
            "62/62 [==============================] - 4s 62ms/step - loss: 0.0017\n",
            "Epoch 10/100\n",
            "62/62 [==============================] - 4s 62ms/step - loss: 0.0020\n",
            "Epoch 11/100\n",
            "62/62 [==============================] - 4s 61ms/step - loss: 0.0019\n",
            "Epoch 12/100\n",
            "62/62 [==============================] - 4s 62ms/step - loss: 0.0016\n",
            "Epoch 13/100\n",
            "62/62 [==============================] - 4s 62ms/step - loss: 0.0018\n",
            "Epoch 14/100\n",
            "62/62 [==============================] - 4s 61ms/step - loss: 0.0017\n",
            "Epoch 15/100\n",
            "62/62 [==============================] - 4s 61ms/step - loss: 0.0015\n",
            "Epoch 16/100\n",
            "62/62 [==============================] - 4s 62ms/step - loss: 0.0017\n",
            "Epoch 17/100\n",
            "62/62 [==============================] - 4s 62ms/step - loss: 0.0015\n",
            "Epoch 18/100\n",
            "62/62 [==============================] - 4s 62ms/step - loss: 0.0015\n",
            "Epoch 19/100\n",
            "62/62 [==============================] - 4s 62ms/step - loss: 0.0012\n",
            "Epoch 20/100\n",
            "62/62 [==============================] - 4s 61ms/step - loss: 0.0015\n",
            "Epoch 21/100\n",
            "62/62 [==============================] - 4s 61ms/step - loss: 0.0013\n",
            "Epoch 22/100\n",
            "62/62 [==============================] - 4s 61ms/step - loss: 0.0012\n",
            "Epoch 23/100\n",
            "62/62 [==============================] - 4s 61ms/step - loss: 0.0011\n",
            "Epoch 24/100\n",
            "62/62 [==============================] - 4s 61ms/step - loss: 0.0014\n",
            "Epoch 25/100\n",
            "62/62 [==============================] - 4s 64ms/step - loss: 0.0012\n",
            "Epoch 26/100\n",
            "62/62 [==============================] - 4s 61ms/step - loss: 0.0012\n",
            "Epoch 27/100\n",
            "62/62 [==============================] - 4s 62ms/step - loss: 0.0012\n",
            "Epoch 28/100\n",
            "62/62 [==============================] - 4s 61ms/step - loss: 0.0011\n",
            "Epoch 29/100\n",
            "62/62 [==============================] - 4s 61ms/step - loss: 0.0011\n",
            "Epoch 30/100\n",
            "62/62 [==============================] - 4s 61ms/step - loss: 0.0012\n",
            "Epoch 31/100\n",
            "62/62 [==============================] - 4s 61ms/step - loss: 0.0011\n",
            "Epoch 32/100\n",
            "62/62 [==============================] - 4s 61ms/step - loss: 0.0012\n",
            "Epoch 33/100\n",
            "62/62 [==============================] - 4s 61ms/step - loss: 0.0010\n",
            "Epoch 34/100\n",
            "62/62 [==============================] - 4s 62ms/step - loss: 0.0011\n",
            "Epoch 35/100\n",
            "62/62 [==============================] - 4s 61ms/step - loss: 9.5622e-04\n",
            "Epoch 36/100\n",
            "62/62 [==============================] - 4s 61ms/step - loss: 9.5092e-04\n",
            "Epoch 37/100\n",
            "62/62 [==============================] - 4s 62ms/step - loss: 9.2356e-04\n",
            "Epoch 38/100\n",
            "62/62 [==============================] - 4s 62ms/step - loss: 9.0929e-04\n",
            "Epoch 39/100\n",
            "62/62 [==============================] - 4s 62ms/step - loss: 9.5630e-04\n",
            "Epoch 40/100\n",
            "62/62 [==============================] - 4s 61ms/step - loss: 9.6688e-04\n",
            "Epoch 41/100\n",
            "62/62 [==============================] - 4s 60ms/step - loss: 9.5320e-04\n",
            "Epoch 42/100\n",
            "62/62 [==============================] - 4s 61ms/step - loss: 9.4759e-04\n",
            "Epoch 43/100\n",
            "62/62 [==============================] - 4s 61ms/step - loss: 9.9867e-04\n",
            "Epoch 44/100\n",
            "62/62 [==============================] - 4s 61ms/step - loss: 9.6515e-04\n",
            "Epoch 45/100\n",
            "62/62 [==============================] - 4s 60ms/step - loss: 8.6025e-04\n",
            "Epoch 46/100\n",
            "62/62 [==============================] - 4s 61ms/step - loss: 8.8495e-04\n",
            "Epoch 47/100\n",
            "62/62 [==============================] - 4s 61ms/step - loss: 9.0725e-04\n",
            "Epoch 48/100\n",
            "62/62 [==============================] - 4s 61ms/step - loss: 9.0915e-04\n",
            "Epoch 49/100\n",
            "62/62 [==============================] - 4s 61ms/step - loss: 9.1578e-04\n",
            "Epoch 50/100\n",
            "62/62 [==============================] - 4s 61ms/step - loss: 8.3204e-04\n",
            "Epoch 51/100\n",
            "62/62 [==============================] - 4s 61ms/step - loss: 8.4513e-04\n",
            "Epoch 52/100\n",
            "62/62 [==============================] - 4s 61ms/step - loss: 8.8711e-04\n",
            "Epoch 53/100\n",
            "62/62 [==============================] - 4s 64ms/step - loss: 9.5315e-04\n",
            "Epoch 54/100\n",
            "62/62 [==============================] - 4s 61ms/step - loss: 7.8766e-04\n",
            "Epoch 55/100\n",
            "62/62 [==============================] - 4s 61ms/step - loss: 8.3956e-04\n",
            "Epoch 56/100\n",
            "62/62 [==============================] - 4s 62ms/step - loss: 7.7377e-04\n",
            "Epoch 57/100\n",
            "62/62 [==============================] - 4s 61ms/step - loss: 7.5859e-04\n",
            "Epoch 58/100\n",
            "62/62 [==============================] - 4s 61ms/step - loss: 7.0019e-04\n",
            "Epoch 59/100\n",
            "62/62 [==============================] - 4s 61ms/step - loss: 8.7618e-04\n",
            "Epoch 60/100\n",
            "62/62 [==============================] - 4s 61ms/step - loss: 8.0046e-04\n",
            "Epoch 61/100\n",
            "62/62 [==============================] - 4s 60ms/step - loss: 8.0100e-04\n",
            "Epoch 62/100\n",
            "62/62 [==============================] - 4s 61ms/step - loss: 8.0408e-04\n",
            "Epoch 63/100\n",
            "62/62 [==============================] - 4s 61ms/step - loss: 8.3379e-04\n",
            "Epoch 64/100\n",
            "62/62 [==============================] - 4s 61ms/step - loss: 7.4658e-04\n",
            "Epoch 65/100\n",
            "62/62 [==============================] - 4s 61ms/step - loss: 8.5556e-04\n",
            "Epoch 66/100\n",
            "62/62 [==============================] - 4s 61ms/step - loss: 7.7861e-04\n",
            "Epoch 67/100\n",
            "62/62 [==============================] - 4s 61ms/step - loss: 8.3304e-04\n",
            "Epoch 68/100\n",
            "62/62 [==============================] - 4s 61ms/step - loss: 7.1008e-04\n",
            "Epoch 69/100\n",
            "62/62 [==============================] - 4s 60ms/step - loss: 6.3573e-04\n",
            "Epoch 70/100\n",
            "62/62 [==============================] - 4s 61ms/step - loss: 6.9806e-04\n",
            "Epoch 71/100\n",
            "62/62 [==============================] - 4s 61ms/step - loss: 7.3345e-04\n",
            "Epoch 72/100\n",
            "62/62 [==============================] - 4s 61ms/step - loss: 6.5621e-04\n",
            "Epoch 73/100\n",
            "62/62 [==============================] - 4s 61ms/step - loss: 7.9509e-04\n",
            "Epoch 74/100\n",
            "62/62 [==============================] - 4s 61ms/step - loss: 7.0099e-04\n",
            "Epoch 75/100\n",
            "62/62 [==============================] - 4s 61ms/step - loss: 6.0441e-04\n",
            "Epoch 76/100\n",
            "62/62 [==============================] - 4s 61ms/step - loss: 7.3142e-04\n",
            "Epoch 77/100\n",
            "62/62 [==============================] - 4s 61ms/step - loss: 8.2376e-04\n",
            "Epoch 78/100\n",
            "62/62 [==============================] - 4s 61ms/step - loss: 7.5316e-04\n",
            "Epoch 79/100\n",
            "62/62 [==============================] - 4s 62ms/step - loss: 7.7382e-04\n",
            "Epoch 80/100\n",
            "62/62 [==============================] - 4s 61ms/step - loss: 8.2238e-04\n",
            "Epoch 81/100\n",
            "62/62 [==============================] - 4s 61ms/step - loss: 8.0855e-04\n",
            "Epoch 82/100\n",
            "62/62 [==============================] - 4s 61ms/step - loss: 6.1123e-04\n",
            "Epoch 83/100\n",
            "62/62 [==============================] - 4s 61ms/step - loss: 6.0292e-04\n",
            "Epoch 84/100\n",
            "62/62 [==============================] - 4s 61ms/step - loss: 6.7546e-04\n",
            "Epoch 85/100\n",
            "62/62 [==============================] - 4s 61ms/step - loss: 6.1403e-04\n",
            "Epoch 86/100\n",
            "62/62 [==============================] - 4s 61ms/step - loss: 6.0931e-04\n",
            "Epoch 87/100\n",
            "62/62 [==============================] - 4s 61ms/step - loss: 6.3345e-04\n",
            "Epoch 88/100\n",
            "62/62 [==============================] - 4s 61ms/step - loss: 5.9940e-04\n",
            "Epoch 89/100\n",
            "62/62 [==============================] - 4s 61ms/step - loss: 6.8620e-04\n",
            "Epoch 90/100\n",
            "62/62 [==============================] - 4s 61ms/step - loss: 6.1673e-04\n",
            "Epoch 91/100\n",
            "62/62 [==============================] - 4s 60ms/step - loss: 5.9464e-04\n",
            "Epoch 92/100\n",
            "62/62 [==============================] - 4s 61ms/step - loss: 6.0758e-04\n",
            "Epoch 93/100\n",
            "62/62 [==============================] - 4s 61ms/step - loss: 7.7086e-04\n",
            "Epoch 94/100\n",
            "62/62 [==============================] - 4s 62ms/step - loss: 6.7365e-04\n",
            "Epoch 95/100\n",
            "62/62 [==============================] - 4s 61ms/step - loss: 6.8559e-04\n",
            "Epoch 96/100\n",
            "62/62 [==============================] - 4s 61ms/step - loss: 6.0429e-04\n",
            "Epoch 97/100\n",
            "62/62 [==============================] - 4s 61ms/step - loss: 7.7838e-04\n",
            "Epoch 98/100\n",
            "62/62 [==============================] - 4s 61ms/step - loss: 7.4699e-04\n",
            "Epoch 99/100\n",
            "62/62 [==============================] - 4s 60ms/step - loss: 5.9131e-04\n",
            "Epoch 100/100\n",
            "62/62 [==============================] - 4s 61ms/step - loss: 5.9163e-04\n"
          ]
        },
        {
          "output_type": "execute_result",
          "data": {
            "text/plain": [
              "<keras.callbacks.History at 0x7fd3d3b5b290>"
            ]
          },
          "metadata": {},
          "execution_count": 12
        }
      ]
    },
    {
      "cell_type": "code",
      "source": [
        "model.compile(optimizer = 'adam', loss = 'mean_squared_error')"
      ],
      "metadata": {
        "id": "fH7f4VKN6rpj"
      },
      "execution_count": 13,
      "outputs": []
    },
    {
      "cell_type": "code",
      "source": [
        "model.fit(x_train, y_train, epochs = 100, batch_size = 32)"
      ],
      "metadata": {
        "colab": {
          "base_uri": "https://localhost:8080/"
        },
        "id": "qCKMYkF26rUv",
        "outputId": "1c1e26dd-81e9-4568-f767-b8a753806212"
      },
      "execution_count": 14,
      "outputs": [
        {
          "output_type": "stream",
          "name": "stdout",
          "text": [
            "Epoch 1/100\n",
            "62/62 [==============================] - 11s 61ms/step - loss: 7.1545e-04\n",
            "Epoch 2/100\n",
            "62/62 [==============================] - 4s 61ms/step - loss: 5.6734e-04\n",
            "Epoch 3/100\n",
            "62/62 [==============================] - 4s 61ms/step - loss: 6.3338e-04\n",
            "Epoch 4/100\n",
            "62/62 [==============================] - 4s 61ms/step - loss: 7.1964e-04\n",
            "Epoch 5/100\n",
            "62/62 [==============================] - 4s 61ms/step - loss: 7.9510e-04\n",
            "Epoch 6/100\n",
            "62/62 [==============================] - 4s 61ms/step - loss: 5.8363e-04\n",
            "Epoch 7/100\n",
            "62/62 [==============================] - 4s 61ms/step - loss: 6.0746e-04\n",
            "Epoch 8/100\n",
            "62/62 [==============================] - 4s 61ms/step - loss: 7.2124e-04\n",
            "Epoch 9/100\n",
            "62/62 [==============================] - 4s 61ms/step - loss: 5.9452e-04\n",
            "Epoch 10/100\n",
            "62/62 [==============================] - 4s 61ms/step - loss: 5.8350e-04\n",
            "Epoch 11/100\n",
            "62/62 [==============================] - 4s 61ms/step - loss: 5.8765e-04\n",
            "Epoch 12/100\n",
            "62/62 [==============================] - 4s 61ms/step - loss: 6.3431e-04\n",
            "Epoch 13/100\n",
            "62/62 [==============================] - 4s 61ms/step - loss: 6.7616e-04\n",
            "Epoch 14/100\n",
            "62/62 [==============================] - 4s 61ms/step - loss: 6.3204e-04\n",
            "Epoch 15/100\n",
            "62/62 [==============================] - 4s 61ms/step - loss: 6.5590e-04\n",
            "Epoch 16/100\n",
            "62/62 [==============================] - 4s 61ms/step - loss: 5.9958e-04\n",
            "Epoch 17/100\n",
            "62/62 [==============================] - 4s 61ms/step - loss: 6.5483e-04\n",
            "Epoch 18/100\n",
            "62/62 [==============================] - 4s 61ms/step - loss: 5.7993e-04\n",
            "Epoch 19/100\n",
            "62/62 [==============================] - 4s 61ms/step - loss: 6.1183e-04\n",
            "Epoch 20/100\n",
            "62/62 [==============================] - 4s 60ms/step - loss: 6.7031e-04\n",
            "Epoch 21/100\n",
            "62/62 [==============================] - 4s 60ms/step - loss: 6.6500e-04\n",
            "Epoch 22/100\n",
            "62/62 [==============================] - 4s 61ms/step - loss: 6.6473e-04\n",
            "Epoch 23/100\n",
            "62/62 [==============================] - 4s 61ms/step - loss: 6.3605e-04\n",
            "Epoch 24/100\n",
            "62/62 [==============================] - 4s 61ms/step - loss: 6.4567e-04\n",
            "Epoch 25/100\n",
            "62/62 [==============================] - 4s 60ms/step - loss: 6.5514e-04\n",
            "Epoch 26/100\n",
            "62/62 [==============================] - 4s 60ms/step - loss: 5.6180e-04\n",
            "Epoch 27/100\n",
            "62/62 [==============================] - 4s 60ms/step - loss: 6.0039e-04\n",
            "Epoch 28/100\n",
            "62/62 [==============================] - 4s 61ms/step - loss: 6.9858e-04\n",
            "Epoch 29/100\n",
            "62/62 [==============================] - 4s 61ms/step - loss: 6.1699e-04\n",
            "Epoch 30/100\n",
            "62/62 [==============================] - 4s 61ms/step - loss: 5.6483e-04\n",
            "Epoch 31/100\n",
            "62/62 [==============================] - 4s 61ms/step - loss: 5.5318e-04\n",
            "Epoch 32/100\n",
            "62/62 [==============================] - 4s 61ms/step - loss: 6.4721e-04\n",
            "Epoch 33/100\n",
            "62/62 [==============================] - 4s 60ms/step - loss: 6.0510e-04\n",
            "Epoch 34/100\n",
            "62/62 [==============================] - 4s 61ms/step - loss: 6.1753e-04\n",
            "Epoch 35/100\n",
            "62/62 [==============================] - 4s 61ms/step - loss: 5.6975e-04\n",
            "Epoch 36/100\n",
            "62/62 [==============================] - 4s 61ms/step - loss: 6.0244e-04\n",
            "Epoch 37/100\n",
            "62/62 [==============================] - 4s 61ms/step - loss: 6.5489e-04\n",
            "Epoch 38/100\n",
            "62/62 [==============================] - 4s 61ms/step - loss: 7.7047e-04\n",
            "Epoch 39/100\n",
            "62/62 [==============================] - 4s 61ms/step - loss: 5.1208e-04\n",
            "Epoch 40/100\n",
            "62/62 [==============================] - 4s 61ms/step - loss: 5.7063e-04\n",
            "Epoch 41/100\n",
            "62/62 [==============================] - 4s 60ms/step - loss: 5.9515e-04\n",
            "Epoch 42/100\n",
            "62/62 [==============================] - 4s 60ms/step - loss: 5.6909e-04\n",
            "Epoch 43/100\n",
            "62/62 [==============================] - 4s 61ms/step - loss: 5.5075e-04\n",
            "Epoch 44/100\n",
            "62/62 [==============================] - 4s 61ms/step - loss: 6.0013e-04\n",
            "Epoch 45/100\n",
            "62/62 [==============================] - 4s 60ms/step - loss: 6.0254e-04\n",
            "Epoch 46/100\n",
            "62/62 [==============================] - 4s 61ms/step - loss: 5.6615e-04\n",
            "Epoch 47/100\n",
            "62/62 [==============================] - 4s 60ms/step - loss: 5.0206e-04\n",
            "Epoch 48/100\n",
            "62/62 [==============================] - 4s 60ms/step - loss: 5.4896e-04\n",
            "Epoch 49/100\n",
            "62/62 [==============================] - 4s 60ms/step - loss: 6.1008e-04\n",
            "Epoch 50/100\n",
            "62/62 [==============================] - 4s 60ms/step - loss: 5.3219e-04\n",
            "Epoch 51/100\n",
            "62/62 [==============================] - 4s 61ms/step - loss: 5.9569e-04\n",
            "Epoch 52/100\n",
            "62/62 [==============================] - 4s 62ms/step - loss: 6.3707e-04\n",
            "Epoch 53/100\n",
            "62/62 [==============================] - 4s 61ms/step - loss: 5.1819e-04\n",
            "Epoch 54/100\n",
            "62/62 [==============================] - 4s 61ms/step - loss: 5.1900e-04\n",
            "Epoch 55/100\n",
            "62/62 [==============================] - 4s 61ms/step - loss: 4.8624e-04\n",
            "Epoch 56/100\n",
            "62/62 [==============================] - 4s 61ms/step - loss: 5.7668e-04\n",
            "Epoch 57/100\n",
            "62/62 [==============================] - 4s 61ms/step - loss: 5.2213e-04\n",
            "Epoch 58/100\n",
            "62/62 [==============================] - 4s 61ms/step - loss: 6.3715e-04\n",
            "Epoch 59/100\n",
            "62/62 [==============================] - 4s 61ms/step - loss: 5.6261e-04\n",
            "Epoch 60/100\n",
            "62/62 [==============================] - 4s 61ms/step - loss: 5.5840e-04\n",
            "Epoch 61/100\n",
            "62/62 [==============================] - 4s 61ms/step - loss: 6.2437e-04\n",
            "Epoch 62/100\n",
            "62/62 [==============================] - 4s 61ms/step - loss: 5.6585e-04\n",
            "Epoch 63/100\n",
            "62/62 [==============================] - 4s 60ms/step - loss: 5.2741e-04\n",
            "Epoch 64/100\n",
            "62/62 [==============================] - 4s 60ms/step - loss: 4.9870e-04\n",
            "Epoch 65/100\n",
            "62/62 [==============================] - 4s 60ms/step - loss: 5.3666e-04\n",
            "Epoch 66/100\n",
            "62/62 [==============================] - 4s 61ms/step - loss: 5.4711e-04\n",
            "Epoch 67/100\n",
            "62/62 [==============================] - 4s 61ms/step - loss: 5.6734e-04\n",
            "Epoch 68/100\n",
            "62/62 [==============================] - 4s 61ms/step - loss: 5.8955e-04\n",
            "Epoch 69/100\n",
            "62/62 [==============================] - 4s 60ms/step - loss: 5.7740e-04\n",
            "Epoch 70/100\n",
            "62/62 [==============================] - 4s 60ms/step - loss: 6.3501e-04\n",
            "Epoch 71/100\n",
            "62/62 [==============================] - 4s 61ms/step - loss: 5.9632e-04\n",
            "Epoch 72/100\n",
            "62/62 [==============================] - 4s 61ms/step - loss: 5.6617e-04\n",
            "Epoch 73/100\n",
            "62/62 [==============================] - 4s 61ms/step - loss: 5.0491e-04\n",
            "Epoch 74/100\n",
            "62/62 [==============================] - 4s 61ms/step - loss: 4.9219e-04\n",
            "Epoch 75/100\n",
            "62/62 [==============================] - 4s 61ms/step - loss: 5.1901e-04\n",
            "Epoch 76/100\n",
            "62/62 [==============================] - 4s 61ms/step - loss: 5.5855e-04\n",
            "Epoch 77/100\n",
            "62/62 [==============================] - 4s 61ms/step - loss: 6.2703e-04\n",
            "Epoch 78/100\n",
            "62/62 [==============================] - 4s 60ms/step - loss: 5.7259e-04\n",
            "Epoch 79/100\n",
            "62/62 [==============================] - 4s 60ms/step - loss: 5.8793e-04\n",
            "Epoch 80/100\n",
            "62/62 [==============================] - 4s 60ms/step - loss: 6.3426e-04\n",
            "Epoch 81/100\n",
            "62/62 [==============================] - 4s 60ms/step - loss: 4.9968e-04\n",
            "Epoch 82/100\n",
            "62/62 [==============================] - 4s 61ms/step - loss: 5.9147e-04\n",
            "Epoch 83/100\n",
            "62/62 [==============================] - 4s 60ms/step - loss: 5.3778e-04\n",
            "Epoch 84/100\n",
            "62/62 [==============================] - 4s 60ms/step - loss: 5.3508e-04\n",
            "Epoch 85/100\n",
            "62/62 [==============================] - 4s 60ms/step - loss: 6.6240e-04\n",
            "Epoch 86/100\n",
            "62/62 [==============================] - 4s 61ms/step - loss: 5.2971e-04\n",
            "Epoch 87/100\n",
            "62/62 [==============================] - 4s 60ms/step - loss: 5.7646e-04\n",
            "Epoch 88/100\n",
            "62/62 [==============================] - 4s 60ms/step - loss: 4.7172e-04\n",
            "Epoch 89/100\n",
            "62/62 [==============================] - 4s 61ms/step - loss: 5.6468e-04\n",
            "Epoch 90/100\n",
            "62/62 [==============================] - 4s 60ms/step - loss: 5.1373e-04\n",
            "Epoch 91/100\n",
            "62/62 [==============================] - 4s 61ms/step - loss: 5.3650e-04\n",
            "Epoch 92/100\n",
            "62/62 [==============================] - 4s 60ms/step - loss: 5.1317e-04\n",
            "Epoch 93/100\n",
            "62/62 [==============================] - 4s 61ms/step - loss: 5.6430e-04\n",
            "Epoch 94/100\n",
            "62/62 [==============================] - 4s 61ms/step - loss: 5.5775e-04\n",
            "Epoch 95/100\n",
            "62/62 [==============================] - 4s 61ms/step - loss: 5.3963e-04\n",
            "Epoch 96/100\n",
            "62/62 [==============================] - 4s 61ms/step - loss: 6.4946e-04\n",
            "Epoch 97/100\n",
            "62/62 [==============================] - 4s 62ms/step - loss: 5.3203e-04\n",
            "Epoch 98/100\n",
            "62/62 [==============================] - 4s 61ms/step - loss: 5.7696e-04\n",
            "Epoch 99/100\n",
            "62/62 [==============================] - 4s 61ms/step - loss: 5.2025e-04\n",
            "Epoch 100/100\n",
            "62/62 [==============================] - 4s 61ms/step - loss: 5.0982e-04\n"
          ]
        },
        {
          "output_type": "execute_result",
          "data": {
            "text/plain": [
              "<keras.callbacks.History at 0x7fd440071490>"
            ]
          },
          "metadata": {},
          "execution_count": 14
        }
      ]
    },
    {
      "cell_type": "code",
      "source": [
        "# adatok beolvasása, test df\n",
        "url = 'https://raw.githubusercontent.com/mwitiderrick/stockprice/master/tatatest.csv'\n",
        "dataset_test = pd.read_csv(url)\n",
        "real_stock_price = dataset_test.iloc[:, 1:2].values"
      ],
      "metadata": {
        "id": "vks4CuKo6Y4H"
      },
      "execution_count": 15,
      "outputs": []
    },
    {
      "cell_type": "code",
      "source": [
        "dataset_total = pd.concat((dataset_train['Open'], dataset_test['Open']), axis = 0)\n",
        "\n",
        "inputs = dataset_total[len(dataset_total) - len(dataset_test) - 60:].values\n",
        "inputs = inputs.reshape(-1,1)\n",
        "inputs = sc.transform(inputs)\n",
        "\n",
        "x_test = []\n",
        "\n",
        "for i in range(60, 76):\n",
        "  x_test.append(inputs[i-60:i, 0])\n",
        "\n",
        "x_test = np.array(x_test)\n",
        "x_test = np.reshape(x_test, (x_test.shape[0], x_test.shape[1], 1))"
      ],
      "metadata": {
        "id": "i2yzsuoc96XN"
      },
      "execution_count": 17,
      "outputs": []
    },
    {
      "cell_type": "code",
      "source": [
        "predicted_stock_price = model.predict(x_test)\n",
        "predicted_stock_price = sc.inverse_transform(predicted_stock_price)"
      ],
      "metadata": {
        "id": "d6s_lgsg-Mx7"
      },
      "execution_count": 18,
      "outputs": []
    },
    {
      "cell_type": "code",
      "source": [
        "plt.plot(real_stock_price, color = 'black', label = 'TATA Stock Price')\n",
        "plt.plot(predicted_stock_price, color = 'green', label = 'Predicted TATA Stock Price')\n",
        "plt.title('TATA Stock Price Prediction')\n",
        "plt.xlabel('Time')\n",
        "plt.ylabel('TATA Stock Price')\n",
        "plt.legend()\n",
        "plt.show()"
      ],
      "metadata": {
        "colab": {
          "base_uri": "https://localhost:8080/",
          "height": 295
        },
        "id": "5NKLV3TP-Y_w",
        "outputId": "49185ac2-bd4e-4aec-f33b-21efd95f5fcf"
      },
      "execution_count": 19,
      "outputs": [
        {
          "output_type": "display_data",
          "data": {
            "text/plain": [
              "<Figure size 432x288 with 1 Axes>"
            ],
            "image/png": "[encoded data removed]"
          },
          "metadata": {
            "needs_background": "light"
          }
        }
      ]
    },
    {
      "cell_type": "code",
      "source": [
        ""
      ],
      "metadata": {
        "id": "BNewvf-X-gwz"
      },
      "execution_count": null,
      "outputs": []
    }
  ]
}