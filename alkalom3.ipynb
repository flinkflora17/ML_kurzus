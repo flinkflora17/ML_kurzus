{
  "nbformat": 4,
  "nbformat_minor": 0,
  "metadata": {
    "colab": {
      "name": "alkalom3.ipynb",
      "provenance": [],
      "authorship_tag": "ABX9TyOCBySj1TsvWl5IxU4tBFFz",
      "include_colab_link": true
    },
    "kernelspec": {
      "name": "python3",
      "display_name": "Python 3"
    },
    "language_info": {
      "name": "python"
    }
  },
  "cells": [
    {
      "cell_type": "markdown",
      "metadata": {
        "id": "view-in-github",
        "colab_type": "text"
      },
      "source": [
        "<a href=\"https://colab.research.google.com/github/flinkflora17/ML_kurzus/blob/main/alkalom3.ipynb\" target=\"_parent\"><img src=\"https://colab.research.google.com/assets/colab-badge.svg\" alt=\"Open In Colab\"/></a>"
      ]
    },
    {
      "cell_type": "code",
      "source": [
        "from tensorflow import keras"
      ],
      "metadata": {
        "id": "CPvYB3gJyYi3"
      },
      "execution_count": 1,
      "outputs": []
    },
    {
      "cell_type": "markdown",
      "source": [
        "# Adatok beolvasása"
      ],
      "metadata": {
        "id": "4PRfdFy5zCaO"
      }
    },
    {
      "cell_type": "code",
      "execution_count": 33,
      "metadata": {
        "id": "f4_hkDYehlQV"
      },
      "outputs": [],
      "source": [
        "(x_train, y_train), (x_test, y_test) = keras.datasets.mnist.load_data()"
      ]
    },
    {
      "cell_type": "code",
      "source": [
        "x_train.shape"
      ],
      "metadata": {
        "colab": {
          "base_uri": "https://localhost:8080/"
        },
        "id": "ZaW8p6-By3xj",
        "outputId": "66daaa2f-4ae4-4d08-c12a-57e7f694ad4c"
      },
      "execution_count": 34,
      "outputs": [
        {
          "output_type": "execute_result",
          "data": {
            "text/plain": [
              "(60000, 28, 28)"
            ]
          },
          "metadata": {},
          "execution_count": 34
        }
      ]
    },
    {
      "cell_type": "markdown",
      "source": [
        "# Kép megjelenítés"
      ],
      "metadata": {
        "id": "BcMo0xuIzII-"
      }
    },
    {
      "cell_type": "code",
      "source": [
        "random_image = x_train[0]"
      ],
      "metadata": {
        "id": "biWgQpVby-f5"
      },
      "execution_count": 35,
      "outputs": []
    },
    {
      "cell_type": "code",
      "source": [
        "random_image.shape"
      ],
      "metadata": {
        "colab": {
          "base_uri": "https://localhost:8080/"
        },
        "id": "JhjrrPwVzOX4",
        "outputId": "aa040bad-8498-4af9-9316-95136d8888e8"
      },
      "execution_count": 36,
      "outputs": [
        {
          "output_type": "execute_result",
          "data": {
            "text/plain": [
              "(28, 28)"
            ]
          },
          "metadata": {},
          "execution_count": 36
        }
      ]
    },
    {
      "cell_type": "code",
      "source": [
        "from PIL import Image"
      ],
      "metadata": {
        "id": "8myqaoDjzQSg"
      },
      "execution_count": 37,
      "outputs": []
    },
    {
      "cell_type": "code",
      "source": [
        "Image.fromarray(random_image)"
      ],
      "metadata": {
        "colab": {
          "base_uri": "https://localhost:8080/",
          "height": 45
        },
        "id": "ev8GxNXCzUK9",
        "outputId": "5c2c4518-bb79-409e-bc39-1a14871ba802"
      },
      "execution_count": 38,
      "outputs": [
        {
          "output_type": "execute_result",
          "data": {
            "image/png": "[encoded data removed]",
            "text/plain": [
              "<PIL.Image.Image image mode=L size=28x28 at 0x7FCA03118790>"
            ]
          },
          "metadata": {},
          "execution_count": 38
        }
      ]
    },
    {
      "cell_type": "markdown",
      "source": [
        "## Adatok átformázása"
      ],
      "metadata": {
        "id": "zfs5rhvqzj0D"
      }
    },
    {
      "cell_type": "code",
      "source": [
        "# előrecsatolt neurháló nem képes többdimenziójú adatformát fogadni az input rétegen --> egyetlen vektorrá formázzuk"
      ],
      "metadata": {
        "id": "klIzONxczdi-"
      },
      "execution_count": 39,
      "outputs": []
    },
    {
      "cell_type": "code",
      "source": [
        "num_classes = 10"
      ],
      "metadata": {
        "id": "2oPAn9Ir0BcF"
      },
      "execution_count": 40,
      "outputs": []
    },
    {
      "cell_type": "code",
      "source": [
        "# hány db elem van a tanuló adatbázisban?"
      ],
      "metadata": {
        "id": "sdCFgu8S0DMk"
      },
      "execution_count": 41,
      "outputs": []
    },
    {
      "cell_type": "code",
      "source": [
        "num_train = x_train.shape[0]\n",
        "num_train"
      ],
      "metadata": {
        "colab": {
          "base_uri": "https://localhost:8080/"
        },
        "id": "E5khrYPn0I3i",
        "outputId": "fca37a02-17d0-41b1-c850-db8058336a40"
      },
      "execution_count": 47,
      "outputs": [
        {
          "output_type": "execute_result",
          "data": {
            "text/plain": [
              "60000"
            ]
          },
          "metadata": {},
          "execution_count": 47
        }
      ]
    },
    {
      "cell_type": "code",
      "source": [
        "# hány db elem van a teszt adatbázisban?\n",
        "num_test = x_test.shape[0]\n",
        "num_test"
      ],
      "metadata": {
        "colab": {
          "base_uri": "https://localhost:8080/"
        },
        "id": "5dBXDx4R1vGX",
        "outputId": "52382bc8-a574-454d-a8a1-30f41c95d91a"
      },
      "execution_count": 48,
      "outputs": [
        {
          "output_type": "execute_result",
          "data": {
            "text/plain": [
              "10000"
            ]
          },
          "metadata": {},
          "execution_count": 48
        }
      ]
    },
    {
      "cell_type": "code",
      "source": [
        "# kép dimenziója"
      ],
      "metadata": {
        "id": "qWVRTQti0M7V"
      },
      "execution_count": 43,
      "outputs": []
    },
    {
      "cell_type": "code",
      "source": [
        "img_height = x_train.shape[1]\n",
        "img_width = x_train.shape[2]"
      ],
      "metadata": {
        "id": "niG8olJr0lx0"
      },
      "execution_count": 49,
      "outputs": []
    },
    {
      "cell_type": "code",
      "source": [
        "# Vektorrá formálás"
      ],
      "metadata": {
        "id": "34KuzNG80pB1"
      },
      "execution_count": 45,
      "outputs": []
    },
    {
      "cell_type": "code",
      "source": [
        "x_train = x_train.reshape(num_train, img_height*img_width)"
      ],
      "metadata": {
        "id": "c2jnrDn004iz"
      },
      "execution_count": 50,
      "outputs": []
    },
    {
      "cell_type": "code",
      "source": [
        "x_test = x_test.reshape(num_test, img_height*img_width)"
      ],
      "metadata": {
        "id": "tFXnvnG21Ajb"
      },
      "execution_count": 51,
      "outputs": []
    },
    {
      "cell_type": "markdown",
      "source": [
        "# Ellenőrizzük az eredményváltozókat"
      ],
      "metadata": {
        "id": "kD0p0bhr2Bk4"
      }
    },
    {
      "cell_type": "code",
      "source": [
        "from tensorflow.keras.utils import to_categorical"
      ],
      "metadata": {
        "id": "8Xu-aiSa1-7J"
      },
      "execution_count": 53,
      "outputs": []
    },
    {
      "cell_type": "code",
      "source": [
        "y_train = to_categorical(y_train, num_classes = num_classes)"
      ],
      "metadata": {
        "id": "Ymnu5VXf4ACC"
      },
      "execution_count": 55,
      "outputs": []
    },
    {
      "cell_type": "code",
      "source": [
        "y_train"
      ],
      "metadata": {
        "colab": {
          "base_uri": "https://localhost:8080/"
        },
        "id": "Z38yuZ1z4Ldn",
        "outputId": "e5bb73fd-b2cf-499e-df48-b1aaa8e8756f"
      },
      "execution_count": 56,
      "outputs": [
        {
          "output_type": "execute_result",
          "data": {
            "text/plain": [
              "array([[0., 0., 0., ..., 0., 0., 0.],\n",
              "       [1., 0., 0., ..., 0., 0., 0.],\n",
              "       [0., 0., 0., ..., 0., 0., 0.],\n",
              "       ...,\n",
              "       [0., 0., 0., ..., 0., 0., 0.],\n",
              "       [0., 0., 0., ..., 0., 0., 0.],\n",
              "       [0., 0., 0., ..., 0., 1., 0.]], dtype=float32)"
            ]
          },
          "metadata": {},
          "execution_count": 56
        }
      ]
    },
    {
      "cell_type": "code",
      "source": [
        "y_test = to_categorical(y_test, num_classes = num_classes)"
      ],
      "metadata": {
        "id": "KemiBbkn4Ri3"
      },
      "execution_count": 57,
      "outputs": []
    },
    {
      "cell_type": "markdown",
      "source": [
        "# Modell architektúra"
      ],
      "metadata": {
        "id": "qy-atkt14mqU"
      }
    },
    {
      "cell_type": "code",
      "source": [
        "from tensorflow.keras.layers import Dense, Input"
      ],
      "metadata": {
        "id": "FWRftcN34e6j"
      },
      "execution_count": 58,
      "outputs": []
    },
    {
      "cell_type": "code",
      "source": [
        "input = Input(shape=(x_train.shape[1]))\n",
        "x = Dense(32, activation = 'relu')(input)\n",
        "x = Dense(64, activation = 'relu')(x)\n",
        "x = Dense(64, activation = 'relu')(x)\n",
        "output = Dense(num_classes, activation = 'softmax')(x)"
      ],
      "metadata": {
        "id": "002yQhy_4uga"
      },
      "execution_count": 59,
      "outputs": []
    },
    {
      "cell_type": "code",
      "source": [
        "model = keras.Model(input, output)"
      ],
      "metadata": {
        "id": "a2nO0yGf5VR-"
      },
      "execution_count": 61,
      "outputs": []
    },
    {
      "cell_type": "markdown",
      "source": [
        "# Modell compile"
      ],
      "metadata": {
        "id": "lskXWuXP5eil"
      }
    },
    {
      "cell_type": "code",
      "source": [
        ""
      ],
      "metadata": {
        "id": "zE-aEixz5l-r"
      },
      "execution_count": null,
      "outputs": []
    },
    {
      "cell_type": "markdown",
      "source": [
        "# Model fit"
      ],
      "metadata": {
        "id": "6ExG_eD05ipr"
      }
    },
    {
      "cell_type": "code",
      "source": [
        ""
      ],
      "metadata": {
        "id": "BHSKMvDb5ak-"
      },
      "execution_count": null,
      "outputs": []
    }
  ]
}